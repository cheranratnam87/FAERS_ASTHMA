{
 "cells": [
  {
   "cell_type": "code",
   "execution_count": 1,
   "id": "27237a23",
   "metadata": {},
   "outputs": [],
   "source": [
    "import os\n",
    "import pandas as pd\n",
    "import numpy as np\n",
    "\n",
    "\n",
    "# Get current working directory\n",
    "current_dir = os.getcwd()\n",
    "\n",
    "# Navigate to data folder\n",
    "data_dir = os.path.join(current_dir, \"data\")\n",
    "\n",
    "# Read CSV file\n",
    "df = pd.read_csv(os.path.join(data_dir, \"faers_asthma.csv\"), sep=\",\")\n"
   ]
  },
  {
   "cell_type": "code",
   "execution_count": 2,
   "id": "2a3daa22",
   "metadata": {
    "scrolled": false
   },
   "outputs": [
    {
     "name": "stdout",
     "output_type": "stream",
     "text": [
      "<bound method NDFrame.head of        Case ID Suspect Product Names   Suspect Product Active Ingredients  \\\n",
      "0      4974950           A-Methapred  Methylprednisolone Sodium Succinate   \n",
      "1      4974946           A-Methapred  Methylprednisolone Sodium Succinate   \n",
      "2      4652544           A-Methapred  Methylprednisolone Sodium Succinate   \n",
      "3      4656790           A-Methapred  Methylprednisolone Sodium Succinate   \n",
      "4      4610124           A-Methapred  Methylprednisolone Sodium Succinate   \n",
      "...        ...                   ...                                  ...   \n",
      "92319  4230505                     -                       Nitrofurantoin   \n",
      "92320  4236734                     -                           Gentamicin   \n",
      "92321  4235917                     -                              Aspirin   \n",
      "92322  4234961                     -               Gold Sodium Thiomalate   \n",
      "92323  4227900                     -                              Aspirin   \n",
      "\n",
      "      Reason for Use                                         Reactions  \\\n",
      "0                  -      Condition Aggravated;Asthma;Drug Ineffective   \n",
      "1                  -            Vasodilatation;Asthma;Hypersensitivity   \n",
      "2                  -   Dysphagia;Anxiety;Anaphylactoid Reaction;Asthma   \n",
      "3                  -                       Condition Aggravated;Asthma   \n",
      "4                  -  Conjunctival Oedema;Asthma;Pharyngitis;Urticaria   \n",
      "...              ...                                               ...   \n",
      "92319              -                                            Asthma   \n",
      "92320              -                                            Asthma   \n",
      "92321              -                                            Asthma   \n",
      "92322              -                             Asthma;Vasodilatation   \n",
      "92323              -                                   Asthma;Rhinitis   \n",
      "\n",
      "           Serious        Outcomes     Sex   Event Date  \\\n",
      "0      Non-Serious     Non-Serious  Female  29-SEP-1992   \n",
      "1          Serious  Other Outcomes    Male  01-NOV-1992   \n",
      "2          Serious  Other Outcomes  Female  28-APR-1988   \n",
      "3      Non-Serious     Non-Serious    Male  01-FEB-1989   \n",
      "4          Serious  Other Outcomes    Male  08-AUG-1988   \n",
      "...            ...             ...     ...          ...   \n",
      "92319      Serious  Other Outcomes  Female  28-OCT-1969   \n",
      "92320      Serious  Other Outcomes  Female  30-DEC-1969   \n",
      "92321      Serious  Other Outcomes    Male  04-NOV-1969   \n",
      "92322      Serious  Other Outcomes    Male  02-DEC-1969   \n",
      "92323      Serious  Other Outcomes    Male  01-JAN-1966   \n",
      "\n",
      "      Latest FDA Received Date  ...            Reporter Type  \\\n",
      "0                  29-MAR-1993  ...                 Consumer   \n",
      "1                  29-MAR-1993  ...                 Consumer   \n",
      "2                  10-MAY-1989  ...                 Consumer   \n",
      "3                  05-MAY-1989  ...                 Consumer   \n",
      "4                  15-AUG-1988  ...  Healthcare Professional   \n",
      "...                        ...  ...                      ...   \n",
      "92319              01-FEB-1970  ...  Healthcare Professional   \n",
      "92320              01-JAN-1970  ...  Healthcare Professional   \n",
      "92321              01-JAN-1970  ...  Healthcare Professional   \n",
      "92322              01-DEC-1969  ...  Healthcare Professional   \n",
      "92323              01-DEC-1969  ...  Healthcare Professional   \n",
      "\n",
      "             Report Source                          Concomitant Product Names  \\\n",
      "0      Health Professional                                 Methylprednisolone   \n",
      "1      Health Professional  Midazolam Hydrochloride;Acetaminophen;Albutero...   \n",
      "2      Health Professional                        Vanceril;Theo-Dur;Albuterol   \n",
      "3      Health Professional                                                  -   \n",
      "4      Health Professional                                          Captopril   \n",
      "...                    ...                                                ...   \n",
      "92319  Health Professional                                                  -   \n",
      "92320  Health Professional                                                  -   \n",
      "92321  Health Professional                                                  -   \n",
      "92322  Health Professional                                                  -   \n",
      "92323  Health Professional                                                  -   \n",
      "\n",
      "      Latest Manufacturer Received Date Initial FDA Received Date  \\\n",
      "0                           29-JAN-1993               29-MAR-1993   \n",
      "1                                     -               29-MAR-1993   \n",
      "2                                     -               10-MAY-1989   \n",
      "3                                     -               05-MAY-1989   \n",
      "4                                     -               15-AUG-1988   \n",
      "...                                 ...                       ...   \n",
      "92319                                 -               01-FEB-1970   \n",
      "92320                                 -               01-JAN-1970   \n",
      "92321                                 -               01-JAN-1970   \n",
      "92322                                 -               01-DEC-1969   \n",
      "92323                                 -               01-DEC-1969   \n",
      "\n",
      "      Country where Event occurred Reported to Manufacturer?  \\\n",
      "0                    Not Specified             Not Specified   \n",
      "1                    Not Specified             Not Specified   \n",
      "2                    Not Specified             Not Specified   \n",
      "3                    Not Specified             Not Specified   \n",
      "4                    Not Specified             Not Specified   \n",
      "...                            ...                       ...   \n",
      "92319                Not Specified             Not Specified   \n",
      "92320                Not Specified             Not Specified   \n",
      "92321                Not Specified             Not Specified   \n",
      "92322                Not Specified             Not Specified   \n",
      "92323                Not Specified             Not Specified   \n",
      "\n",
      "      Manufacturer Control Number Literature Reference Compounded Flag  \n",
      "0                      H2009572AO                    -               -  \n",
      "1                      H2009373AO                    -               -  \n",
      "2                        H36208A0                    -               -  \n",
      "3                        H37322A0                    -               -  \n",
      "4                               -                    -               -  \n",
      "...                           ...                  ...             ...  \n",
      "92319                           -                    -               -  \n",
      "92320                           -                    -               -  \n",
      "92321                           -                    -               -  \n",
      "92322                           -                    -               -  \n",
      "92323                           -                    -               -  \n",
      "\n",
      "[92324 rows x 24 columns]>\n"
     ]
    }
   ],
   "source": [
    "print(df.head)"
   ]
  },
  {
   "cell_type": "code",
   "execution_count": 3,
   "id": "aaa7b75a",
   "metadata": {},
   "outputs": [
    {
     "name": "stdout",
     "output_type": "stream",
     "text": [
      "          Patient Age Patient Weight\n",
      "count           92324          92324\n",
      "unique           1124           2801\n",
      "top     Not Specified  Not Specified\n",
      "freq            31174          70933\n",
      "US               36473\n",
      "Not Specified    22717\n",
      "CA               19590\n",
      "GB                2664\n",
      "JP                1821\n",
      "                 ...  \n",
      "CM                   1\n",
      "AM                   1\n",
      "NP                   1\n",
      "BO                   1\n",
      "GE                   1\n",
      "Name: Country where Event occurred, Length: 111, dtype: int64\n",
      "Not Specified                                                       68484\n",
      "Health Professional                                                 13816\n",
      "Consumer                                                             4319\n",
      "Health Professional ,Foreign                                         1347\n",
      "Health Professional ,Study                                            516\n",
      "                                                                    ...  \n",
      "Company Representative ,Health Professional ,Distributor,Foreign        1\n",
      "Company Representative ,Study,Foreign                                   1\n",
      "User Facility ,Health Professional ,Distributor                         1\n",
      "User Facility ,Health Professional ,Literature                          1\n",
      "Consumer,Literature                                                     1\n",
      "Name: Report Source, Length: 94, dtype: int64\n",
      "-                                                                                                                                                                     49597\n",
      "Prednisone                                                                                                                                                              811\n",
      "Nucala                                                                                                                                                                  708\n",
      "Albuterol                                                                                                                                                               631\n",
      "Unspecified Ingredient                                                                                                                                                  581\n",
      "                                                                                                                                                                      ...  \n",
      "Fluticasone;Pantoprazole;Vilanterol Trifenatate;Tiotropium;Budesonide;Oxazepam;Perindopril                                                                                1\n",
      "Hydroxyzine Hydrochloride;Candesartan;Oxazepam;Montelukast;Pantoprazole;Perindopril                                                                                       1\n",
      "Oxazepam;Tiotropium Bromide;Vilanterol Trifenatate;Fluticasone Propionate;Budesonide;Perindopril;Pantoprazole                                                             1\n",
      "Prednisone;Tiotropium;Montelukast;Budesonide;Omeprazole;Vitamin D3;Fluticasone Furoate\\Vilanterol Trifenatate;Zileuton;Fluticasone Propionate\\Salmeterol Xinafoate        1\n",
      "Tetracaine;Innovar                                                                                                                                                        1\n",
      "Name: Concomitant Product Names, Length: 31802, dtype: int64\n",
      "Asthma                                                                                                             11507\n",
      "Drug Ineffective;Asthma                                                                                              556\n",
      "Asthma;Drug Ineffective                                                                                              526\n",
      "Hospitalisation;Asthma                                                                                               524\n",
      "Asthma;Hospitalisation                                                                                               519\n",
      "                                                                                                                   ...  \n",
      "Fall;Vomiting;Cyanosis;Hypotension;Asthma;Bronchospasm;Cardiac Failure;Cardiac Arrest;Bradycardia;Shock;Malaise        1\n",
      "Laryngeal Oedema;Asthma;Cyanosis;Dyspnoea                                                                              1\n",
      "Asthma;Dermatitis;Rhinitis                                                                                             1\n",
      "Urticaria;Asthma;Nausea                                                                                                1\n",
      "Nausea;Asthma;Urticaria                                                                                                1\n",
      "Name: Reactions, Length: 62502, dtype: int64\n",
      "Serious        72134\n",
      "Non-Serious    20190\n",
      "Name: Serious, dtype: int64\n",
      "-                                                                                                   15982\n",
      "Xolair                                                                                               5068\n",
      "Dupixent                                                                                             3302\n",
      "Symbicort                                                                                            2090\n",
      "Humira                                                                                               1592\n",
      "                                                                                                    ...  \n",
      "Metformin;Synthroid;Singulair;Montelukast;Pulmicort Turbuhaler;Xolair;Invokana                          1\n",
      "Metformin;Synthroid;Spiriva;Elavil;Wellbutrin Xl;Symbicort;Glumetza;Abilify;Pulmicort Turbuhaler        1\n",
      "Metformin;Synthroid;Wellbutrin;Symbicort;Spiriva;Abilify;Pulmicort Turbuhaler                           1\n",
      "Metformin;Tradjenta                                                                                     1\n",
      "Nucala;Symbicort;Atrovent                                                                               1\n",
      "Name: Suspect Product Names, Length: 13828, dtype: int64\n",
      "Consumer                   47467\n",
      "Healthcare Professional    41687\n",
      "Not Specified               3170\n",
      "Name: Reporter Type, dtype: int64\n",
      "Female           58453\n",
      "Male             25992\n",
      "Not Specified     7879\n",
      "Name: Sex, dtype: int64\n",
      "Other Outcomes                                                                                         31802\n",
      "Non-Serious                                                                                            20191\n",
      "Hospitalized                                                                                           18361\n",
      "Hospitalized;Other Outcomes                                                                             6205\n",
      "Other Outcomes;Hospitalized                                                                             5965\n",
      "                                                                                                       ...  \n",
      "Died;Hospitalized;Disabled;Other Outcomes;Congenital Anomaly;Life Threatening;Required Intervention        1\n",
      "Required Intervention;Hospitalized;Life Threatening;Disabled                                               1\n",
      "Disabled;Required Intervention;Hospitalized;Life Threatening                                               1\n",
      "Congenital Anomaly;Other Outcomes;Died;Disabled;Hospitalized                                               1\n",
      "Life Threatening;Other Outcomes;Hospitalized;Required Intervention                                         1\n",
      "Name: Outcomes, Length: 408, dtype: int64\n",
      "Not Specified    92022\n",
      "Y                  302\n",
      "Name: Reported to Manufacturer?, dtype: int64\n",
      "Omalizumab                                                                                                                                                                                           4446\n",
      "Fluticasone Propionate\\Salmeterol Xinafoate                                                                                                                                                          3466\n",
      "Dupilumab                                                                                                                                                                                            3438\n",
      "Albuterol Sulfate                                                                                                                                                                                    2873\n",
      "Budesonide\\Formoterol Fumarate Dihydrate                                                                                                                                                             1664\n",
      "                                                                                                                                                                                                     ... \n",
      "Metformin Hydrochloride;Mometasone Furoate;Omalizumab;Pantoprazole;Glycopyrrolate;Rosuvastatin                                                                                                          1\n",
      "Metformin Hydrochloride;Rosuvastatin;Pantoprazole;Glycopyrrolate;Omalizumab;Mometasone Furoate                                                                                                          1\n",
      "Metformin Hydrochloride;Doxepin Hydrochloride;Fluticasone Propionate\\Salmeterol Xinafoate;Quetiapine;Theophylline Anhydrous;Levothyroxine Sodium;Albuterol Sulfate;Pravastatin;Tiotropium Bromide       1\n",
      "Metformin Hydrochloride;Pantoprazole;Rosuvastatin;Glycopyrrolate;Omalizumab;Mometasone Furoate                                                                                                          1\n",
      "Unspecified Ingredient;Aspirin                                                                                                                                                                          1\n",
      "Name: Suspect Product Active Ingredients, Length: 22865, dtype: int64\n",
      "-                                                                                                                                                                                                                                            18318\n",
      "Asthma                                                                                                                                                                                                                                       16960\n",
      "Product Used For Unknown Indication                                                                                                                                                                                                           9727\n",
      "Asthma;Product Used For Unknown Indication                                                                                                                                                                                                    8752\n",
      "Rheumatoid Arthritis                                                                                                                                                                                                                          1947\n",
      "                                                                                                                                                                                                                                             ...  \n",
      "Cataplexy;Narcolepsy;Product Used For Unknown Indication;Raynaud's Phenomenon                                                                                                                                                                    1\n",
      "Anxiety;Arterial Disorder;Arthralgia;Asthma;Chest Pain;Depression;Diabetes Mellitus;Fibromyalgia;Fluid Retention;Gastrooesophageal Reflux Disease;Hypersensitivity;Hypertension;Migraine;Muscle Spasms;Neuropathy Peripheral;Panic Attack        1\n",
      "Bronchitis;Cough;Pneumonia;Product Used For Unknown Indication                                                                                                                                                                                   1\n",
      "Depression;Hypersensitivity;Smoking Cessation Therapy;Tobacco Abuse                                                                                                                                                                              1\n",
      "Tooth Disorder                                                                                                                                                                                                                                   1\n",
      "Name: Reason for Use, Length: 10960, dtype: int64\n"
     ]
    }
   ],
   "source": [
    "# Before making any changes to the variables - what does the distribution look like?\n",
    "# select the columns of interest\n",
    "cols_of_interest = ['Suspect Product Names', 'Reason for Use', 'Suspect Product Active Ingredients',\n",
    "                    'Reactions', 'Serious', 'Sex', 'Patient Age', 'Patient Weight',\n",
    "                    'Reporter Type', 'Report Source', 'Concomitant Product Names',\n",
    "                    'Country where Event occurred', 'Outcomes', 'Reported to Manufacturer?']\n",
    "\n",
    "# get basic descriptive statistics for the numeric columns\n",
    "numeric_cols = ['Patient Age', 'Patient Weight']\n",
    "print(df[numeric_cols].describe())\n",
    "\n",
    "\n",
    "# get basic descriptive statistics for the categorical columns\n",
    "categorical_cols = list(set(cols_of_interest) - set(numeric_cols))\n",
    "for col in categorical_cols:\n",
    "    print(df[col].value_counts())"
   ]
  },
  {
   "cell_type": "code",
   "execution_count": 4,
   "id": "18ae5507",
   "metadata": {
    "scrolled": true
   },
   "outputs": [],
   "source": [
    "#Create Patient Age column to be only numeric\n",
    "df['Patient Age'] = df['Patient Age'].str.extract('(\\d+)').astype(float)\n",
    "\n"
   ]
  },
  {
   "cell_type": "code",
   "execution_count": 5,
   "id": "2d2e312e",
   "metadata": {},
   "outputs": [],
   "source": [
    "#Create Patient Weight column to be only numeric \n",
    "df['Patient Weight'] = df['Patient Weight'].str.extract('(\\d+)').astype(float)\n"
   ]
  },
  {
   "cell_type": "code",
   "execution_count": 6,
   "id": "de163ce2",
   "metadata": {
    "scrolled": true
   },
   "outputs": [
    {
     "data": {
      "image/png": "[encoded data removed]",
      "text/plain": [
       "<Figure size 640x480 with 1 Axes>"
      ]
     },
     "metadata": {},
     "output_type": "display_data"
    }
   ],
   "source": [
    "#Visualizing patient age\n",
    "import matplotlib.pyplot as plt\n",
    "\n",
    "# create a scatter plot of patient age\n",
    "plt.scatter(df['Patient Age'], range(len(df)))\n",
    "plt.xlabel('Patient Age')\n",
    "plt.ylabel('Index')\n",
    "plt.title('Scatter Plot of Patient Age')\n",
    "plt.show()\n"
   ]
  },
  {
   "cell_type": "code",
   "execution_count": 7,
   "id": "78b09d8c",
   "metadata": {
    "scrolled": true
   },
   "outputs": [
    {
     "data": {
      "image/png": "[encoded data removed]",
      "text/plain": [
       "<Figure size 640x480 with 1 Axes>"
      ]
     },
     "metadata": {},
     "output_type": "display_data"
    }
   ],
   "source": [
    "#visualizing patient weight\n",
    "\n",
    "import matplotlib.pyplot as plt\n",
    "\n",
    "# create a scatter plot of patient age\n",
    "plt.scatter(df['Patient Weight'], range(len(df)))\n",
    "plt.xlabel('Patient Age')\n",
    "plt.ylabel('Index') \n",
    "plt.title('Scatter Plot of Patient Weight')\n",
    "plt.show()\n"
   ]
  },
  {
   "cell_type": "code",
   "execution_count": 8,
   "id": "75820da7",
   "metadata": {
    "scrolled": true
   },
   "outputs": [
    {
     "name": "stdout",
     "output_type": "stream",
     "text": [
      "        Patient Age  Patient Weight\n",
      "count  61150.000000    21391.000000\n",
      "mean     271.105004       94.413211\n",
      "std     2212.847300       50.444914\n",
      "min        0.000000        0.000000\n",
      "25%       39.000000       64.000000\n",
      "50%       54.000000       81.000000\n",
      "75%       66.000000      111.000000\n",
      "max    35248.000000      559.000000\n"
     ]
    }
   ],
   "source": [
    "# get basic descriptive statistics for the numeric columns - After making them nominal variables\n",
    "numeric_cols = ['Patient Age', 'Patient Weight']\n",
    "print(df[numeric_cols].describe())\n"
   ]
  },
  {
   "cell_type": "code",
   "execution_count": 9,
   "id": "ef3c9686",
   "metadata": {},
   "outputs": [
    {
     "data": {
      "image/png": "[encoded data removed]",
      "text/plain": [
       "<Figure size 640x480 with 1 Axes>"
      ]
     },
     "metadata": {},
     "output_type": "display_data"
    },
    {
     "data": {
      "image/png": "[encoded data removed]",
      "text/plain": [
       "<Figure size 640x480 with 1 Axes>"
      ]
     },
     "metadata": {},
     "output_type": "display_data"
    }
   ],
   "source": [
    "##median, quartiles, and any outliers before removing outliers - There is an issue with large amounts of patients' ages being incorrect\n",
    "import matplotlib.pyplot as plt\n",
    "\n",
    "# Create box plot for Patient Age\n",
    "plt.boxplot(df['Patient Age'])\n",
    "plt.title('Patient Age Box Plot')\n",
    "plt.ylim(bottom=0\n",
    "         , top=3525)\n",
    "plt.show()\n",
    "\n",
    "# Create box plot for Patient Weight\n",
    "plt.boxplot(df['Patient Weight'])\n",
    "plt.title('Patient Weight Box Plot')\n",
    "plt.ylim(bottom=0, top=559)\n",
    "plt.show()\n"
   ]
  },
  {
   "cell_type": "code",
   "execution_count": 10,
   "id": "d84160cc",
   "metadata": {},
   "outputs": [],
   "source": [
    "# replace missing values with median\n",
    "df[['Patient Age', 'Patient Weight']] = df[['Patient Age', 'Patient Weight']].fillna(df[['Patient Age', 'Patient Weight']].median())\n",
    "\n",
    "# calculate quartiles and IQR for Patient Age and Patient Weight\n",
    "q1_age, q3_age = np.percentile(df['Patient Age'], [25, 75])\n",
    "iqr_age = q3_age - q1_age\n",
    "\n",
    "q1_weight, q3_weight = np.percentile(df['Patient Weight'], [25, 75])\n",
    "iqr_weight = q3_weight - q1_weight\n",
    "\n",
    "# replace outliers with median\n",
    "df.loc[df['Patient Age'] > q3_age + 1.5*iqr_age, 'Patient Age'] = df['Patient Age'].median()\n",
    "df.loc[df['Patient Weight'] > q3_weight + 1.5*iqr_weight, 'Patient Weight'] = df['Patient Weight'].median()\n"
   ]
  },
  {
   "cell_type": "code",
   "execution_count": 11,
   "id": "736a9ebb",
   "metadata": {
    "scrolled": true
   },
   "outputs": [
    {
     "name": "stdout",
     "output_type": "stream",
     "text": [
      "        Patient Age  Patient Weight\n",
      "count  92324.000000    92324.000000\n",
      "mean      50.778920       78.590377\n",
      "std       15.088449        8.887529\n",
      "min        0.000000        0.000000\n",
      "25%       48.000000       81.000000\n",
      "50%       54.000000       81.000000\n",
      "75%       57.000000       81.000000\n",
      "max       78.000000       81.000000\n"
     ]
    }
   ],
   "source": [
    "# get basic descriptive statistics for the numeric columns - After removing outliers\n",
    "numeric_cols = ['Patient Age', 'Patient Weight']\n",
    "print(df[numeric_cols].describe())"
   ]
  },
  {
   "cell_type": "code",
   "execution_count": 12,
   "id": "ea4f4292",
   "metadata": {},
   "outputs": [
    {
     "data": {
      "image/png": "[encoded data removed]",
      "text/plain": [
       "<Figure size 640x480 with 1 Axes>"
      ]
     },
     "metadata": {},
     "output_type": "display_data"
    },
    {
     "data": {
      "image/png": "[encoded data removed]",
      "text/plain": [
       "<Figure size 640x480 with 1 Axes>"
      ]
     },
     "metadata": {},
     "output_type": "display_data"
    }
   ],
   "source": [
    "#median, quartiles, and any outliers after removing outliers\n",
    "import matplotlib.pyplot as plt\n",
    "\n",
    "# Create box plot for Patient Age\n",
    "plt.boxplot(df['Patient Age'])\n",
    "plt.title('Patient Age Box Plot')\n",
    "plt.show()\n",
    "\n",
    "# Create box plot for Patient Weight\n",
    "plt.boxplot(df['Patient Weight'])\n",
    "plt.title('Patient Weight Box Plot')\n",
    "plt.show()\n"
   ]
  },
  {
   "cell_type": "code",
   "execution_count": 13,
   "id": "4fd79ed7",
   "metadata": {},
   "outputs": [],
   "source": [
    "median_age = df['Patient Age'].median()\n",
    "df['Patient Age'].fillna(median_age, inplace=True)"
   ]
  },
  {
   "cell_type": "code",
   "execution_count": 14,
   "id": "0ff6bda8",
   "metadata": {},
   "outputs": [],
   "source": [
    "median_weight = df['Patient Weight'].median()\n",
    "df['Patient Weight'].fillna(median_weight, inplace=True)"
   ]
  },
  {
   "cell_type": "code",
   "execution_count": 15,
   "id": "ed8c7315",
   "metadata": {},
   "outputs": [
    {
     "name": "stdout",
     "output_type": "stream",
     "text": [
      "Index(['Case ID', 'Suspect Product Names',\n",
      "       'Suspect Product Active Ingredients', 'Reason for Use', 'Reactions',\n",
      "       'Serious', 'Outcomes', 'Sex', 'Event Date', 'Latest FDA Received Date',\n",
      "       'Case Priority', 'Patient Age', 'Patient Weight', 'Sender',\n",
      "       'Reporter Type', 'Report Source', 'Concomitant Product Names',\n",
      "       'Latest Manufacturer Received Date', 'Initial FDA Received Date',\n",
      "       'Country where Event occurred', 'Reported to Manufacturer?',\n",
      "       'Manufacturer Control Number', 'Literature Reference',\n",
      "       'Compounded Flag'],\n",
      "      dtype='object')\n"
     ]
    }
   ],
   "source": [
    "print(df.columns)"
   ]
  },
  {
   "cell_type": "code",
   "execution_count": 16,
   "id": "cfc67fc6",
   "metadata": {},
   "outputs": [
    {
     "data": {
      "text/plain": [
       "0        0\n",
       "1        1\n",
       "2        1\n",
       "3        0\n",
       "4        1\n",
       "        ..\n",
       "92319    1\n",
       "92320    1\n",
       "92321    1\n",
       "92322    1\n",
       "92323    1\n",
       "Name: Serious, Length: 92324, dtype: category\n",
       "Categories (2, int64): [0, 1]"
      ]
     },
     "execution_count": 16,
     "metadata": {},
     "output_type": "execute_result"
    }
   ],
   "source": [
    "\n",
    "# Replace values with 1 and 0 for 'Serious' variable\n",
    "df['Serious'] = df['Serious'].replace({'Serious': 1, 'Non-Serious': 0})\n",
    "\n",
    "# Convert variable to categorical variable\n",
    "df['Serious'] = df['Serious'].astype('category')\n",
    "\n",
    "df['Serious']"
   ]
  },
  {
   "cell_type": "code",
   "execution_count": 17,
   "id": "7f32e676",
   "metadata": {},
   "outputs": [
    {
     "data": {
      "text/plain": [
       "0        0\n",
       "1        1\n",
       "2        1\n",
       "3        0\n",
       "4        1\n",
       "        ..\n",
       "92319    1\n",
       "92320    1\n",
       "92321    1\n",
       "92322    1\n",
       "92323    1\n",
       "Name: Case Priority, Length: 92324, dtype: category\n",
       "Categories (2, int64): [0, 1]"
      ]
     },
     "execution_count": 17,
     "metadata": {},
     "output_type": "execute_result"
    }
   ],
   "source": [
    "\n",
    "# Replace values with 1 and 0 for 'Case Priority' variable\n",
    "df['Case Priority'] = df['Serious'].replace({'Expedited': 1, 'Non-Expedited': 0, 'Direct': 2, '30-DAY': 3, '5-Day': 4, 'BSR': 5})\n",
    "\n",
    "# Convert variable to categorical variable\n",
    "df['Case Priority'] = df['Case Priority'].astype('category')\n",
    "\n",
    "df['Case Priority']"
   ]
  },
  {
   "cell_type": "code",
   "execution_count": 18,
   "id": "9dfcec12",
   "metadata": {
    "scrolled": false
   },
   "outputs": [
    {
     "data": {
      "text/plain": [
       "0        0\n",
       "1        1\n",
       "2        1\n",
       "3        0\n",
       "4        1\n",
       "        ..\n",
       "92319    1\n",
       "92320    1\n",
       "92321    1\n",
       "92322    1\n",
       "92323    1\n",
       "Name: Sex, Length: 92324, dtype: category\n",
       "Categories (2, int64): [0, 1]"
      ]
     },
     "execution_count": 18,
     "metadata": {},
     "output_type": "execute_result"
    }
   ],
   "source": [
    "\n",
    "# Replace values with 1 and 0 for 'Sex' variable\n",
    "df['Sex'] = df['Sex'].replace({'Male': 1, 'Female': 2, 'Direct': 2, 'Not Specified': 0})\n",
    "\n",
    "# Convert variable to categorical variable\n",
    "df['Sex'] = df['Case Priority'].astype('category')\n",
    "\n",
    "df['Sex']"
   ]
  },
  {
   "cell_type": "code",
   "execution_count": 19,
   "id": "c8145768",
   "metadata": {
    "scrolled": true
   },
   "outputs": [
    {
     "data": {
      "text/plain": [
       "0        0\n",
       "1        0\n",
       "2        0\n",
       "3        0\n",
       "4        0\n",
       "        ..\n",
       "92319    0\n",
       "92320    0\n",
       "92321    0\n",
       "92322    0\n",
       "92323    0\n",
       "Name: Reported to Manufacturer?, Length: 92324, dtype: category\n",
       "Categories (2, int64): [0, 1]"
      ]
     },
     "execution_count": 19,
     "metadata": {},
     "output_type": "execute_result"
    }
   ],
   "source": [
    "\n",
    "# Replace values with 1 and 0 for 'Reported to Manufacturer?' variable\n",
    "df['Reported to Manufacturer?'] = df['Reported to Manufacturer?'].replace({'Y': 1, 'Not Specified': 0})\n",
    "\n",
    "# Convert variable to categorical variable\n",
    "df['Reported to Manufacturer?'] = df['Reported to Manufacturer?'].astype('category')\n",
    "\n",
    "df['Reported to Manufacturer?']"
   ]
  },
  {
   "cell_type": "code",
   "execution_count": 20,
   "id": "da984b33",
   "metadata": {
    "scrolled": false
   },
   "outputs": [
    {
     "data": {
      "text/plain": [
       "0        1\n",
       "1        1\n",
       "2        1\n",
       "3        1\n",
       "4        2\n",
       "        ..\n",
       "92319    2\n",
       "92320    2\n",
       "92321    2\n",
       "92322    2\n",
       "92323    2\n",
       "Name: Reporter Type, Length: 92324, dtype: category\n",
       "Categories (3, int64): [0, 1, 2]"
      ]
     },
     "execution_count": 20,
     "metadata": {},
     "output_type": "execute_result"
    }
   ],
   "source": [
    "# Replace values with 1,2, and 0 for 'Reporter Type' variable\n",
    "df['Reporter Type'] = df['Reporter Type'].replace({'Consumer': 1, 'Healthcare Professional': 2, 'Not Specified': 0})\n",
    "\n",
    "# Convert variable to categorical variable\n",
    "df['Reporter Type'] = df['Reporter Type'].astype('category')\n",
    "\n",
    "df['Reporter Type']"
   ]
  },
  {
   "cell_type": "code",
   "execution_count": 21,
   "id": "a70a00c4",
   "metadata": {
    "scrolled": true
   },
   "outputs": [
    {
     "name": "stdout",
     "output_type": "stream",
     "text": [
      "      Suspect Product Names Reason for Use  \\\n",
      "0               A-Methapred              -   \n",
      "1               A-Methapred              -   \n",
      "2               A-Methapred              -   \n",
      "3               A-Methapred              -   \n",
      "4               A-Methapred              -   \n",
      "...                     ...            ...   \n",
      "92319                     -              -   \n",
      "92320                     -              -   \n",
      "92321                     -              -   \n",
      "92322                     -              -   \n",
      "92323                     -              -   \n",
      "\n",
      "        Suspect Product Active Ingredients  \\\n",
      "0      Methylprednisolone Sodium Succinate   \n",
      "1      Methylprednisolone Sodium Succinate   \n",
      "2      Methylprednisolone Sodium Succinate   \n",
      "3      Methylprednisolone Sodium Succinate   \n",
      "4      Methylprednisolone Sodium Succinate   \n",
      "...                                    ...   \n",
      "92319                       Nitrofurantoin   \n",
      "92320                           Gentamicin   \n",
      "92321                              Aspirin   \n",
      "92322               Gold Sodium Thiomalate   \n",
      "92323                              Aspirin   \n",
      "\n",
      "                                              Reactions Serious Sex  \\\n",
      "0          Condition Aggravated;Asthma;Drug Ineffective       0   0   \n",
      "1                Vasodilatation;Asthma;Hypersensitivity       1   1   \n",
      "2       Dysphagia;Anxiety;Anaphylactoid Reaction;Asthma       1   1   \n",
      "3                           Condition Aggravated;Asthma       0   0   \n",
      "4      Conjunctival Oedema;Asthma;Pharyngitis;Urticaria       1   1   \n",
      "...                                                 ...     ...  ..   \n",
      "92319                                            Asthma       1   1   \n",
      "92320                                            Asthma       1   1   \n",
      "92321                                            Asthma       1   1   \n",
      "92322                             Asthma;Vasodilatation       1   1   \n",
      "92323                                   Asthma;Rhinitis       1   1   \n",
      "\n",
      "       Patient Age  Patient Weight Reporter Type        Report Source  \\\n",
      "0             39.0            81.0             1  Health Professional   \n",
      "1              3.0            81.0             1  Health Professional   \n",
      "2             53.0            81.0             1  Health Professional   \n",
      "3             54.0            81.0             1  Health Professional   \n",
      "4             14.0            81.0             2  Health Professional   \n",
      "...            ...             ...           ...                  ...   \n",
      "92319         40.0            81.0             2  Health Professional   \n",
      "92320         57.0            81.0             2  Health Professional   \n",
      "92321         58.0            81.0             2  Health Professional   \n",
      "92322         54.0            81.0             2  Health Professional   \n",
      "92323         24.0            81.0             2  Health Professional   \n",
      "\n",
      "                               Concomitant Product Names  \\\n",
      "0                                     Methylprednisolone   \n",
      "1      Midazolam Hydrochloride;Acetaminophen;Albutero...   \n",
      "2                            Vanceril;Theo-Dur;Albuterol   \n",
      "3                                                      -   \n",
      "4                                              Captopril   \n",
      "...                                                  ...   \n",
      "92319                                                  -   \n",
      "92320                                                  -   \n",
      "92321                                                  -   \n",
      "92322                                                  -   \n",
      "92323                                                  -   \n",
      "\n",
      "      Country where Event occurred        Outcomes Reported to Manufacturer?  \n",
      "0                    Not Specified     Non-Serious                         0  \n",
      "1                    Not Specified  Other Outcomes                         0  \n",
      "2                    Not Specified  Other Outcomes                         0  \n",
      "3                    Not Specified     Non-Serious                         0  \n",
      "4                    Not Specified  Other Outcomes                         0  \n",
      "...                            ...             ...                       ...  \n",
      "92319                Not Specified  Other Outcomes                         0  \n",
      "92320                Not Specified  Other Outcomes                         0  \n",
      "92321                Not Specified  Other Outcomes                         0  \n",
      "92322                Not Specified  Other Outcomes                         0  \n",
      "92323                Not Specified  Other Outcomes                         0  \n",
      "\n",
      "[92324 rows x 14 columns]\n"
     ]
    }
   ],
   "source": [
    "cleaned_data = df[['Suspect Product Names', 'Reason for Use', 'Suspect Product Active Ingredients', 'Reactions', 'Serious', 'Sex',\n",
    "                   'Patient Age', 'Patient Weight','Reporter Type','Report Source', 'Concomitant Product Names','Country where Event occurred', 'Outcomes','Reported to Manufacturer?',]]\n",
    "print(cleaned_data)\n"
   ]
  },
  {
   "cell_type": "code",
   "execution_count": 22,
   "id": "bed980b1",
   "metadata": {},
   "outputs": [],
   "source": [
    "#cleaned_data.to_csv('cleaned_data.csv', index=False)"
   ]
  },
  {
   "cell_type": "code",
   "execution_count": 23,
   "id": "90a61c17",
   "metadata": {},
   "outputs": [
    {
     "name": "stdout",
     "output_type": "stream",
     "text": [
      "        Patient Age  Patient Weight\n",
      "count  92324.000000    92324.000000\n",
      "mean      50.778920       78.590377\n",
      "std       15.088449        8.887529\n",
      "min        0.000000        0.000000\n",
      "25%       48.000000       81.000000\n",
      "50%       54.000000       81.000000\n",
      "75%       57.000000       81.000000\n",
      "max       78.000000       81.000000\n",
      "US               36473\n",
      "Not Specified    22717\n",
      "CA               19590\n",
      "GB                2664\n",
      "JP                1821\n",
      "                 ...  \n",
      "CM                   1\n",
      "AM                   1\n",
      "NP                   1\n",
      "BO                   1\n",
      "GE                   1\n",
      "Name: Country where Event occurred, Length: 111, dtype: int64\n",
      "Not Specified                                                       68484\n",
      "Health Professional                                                 13816\n",
      "Consumer                                                             4319\n",
      "Health Professional ,Foreign                                         1347\n",
      "Health Professional ,Study                                            516\n",
      "                                                                    ...  \n",
      "Company Representative ,Health Professional ,Distributor,Foreign        1\n",
      "Company Representative ,Study,Foreign                                   1\n",
      "User Facility ,Health Professional ,Distributor                         1\n",
      "User Facility ,Health Professional ,Literature                          1\n",
      "Consumer,Literature                                                     1\n",
      "Name: Report Source, Length: 94, dtype: int64\n",
      "-                                                                                                                                                                     49597\n",
      "Prednisone                                                                                                                                                              811\n",
      "Nucala                                                                                                                                                                  708\n",
      "Albuterol                                                                                                                                                               631\n",
      "Unspecified Ingredient                                                                                                                                                  581\n",
      "                                                                                                                                                                      ...  \n",
      "Fluticasone;Pantoprazole;Vilanterol Trifenatate;Tiotropium;Budesonide;Oxazepam;Perindopril                                                                                1\n",
      "Hydroxyzine Hydrochloride;Candesartan;Oxazepam;Montelukast;Pantoprazole;Perindopril                                                                                       1\n",
      "Oxazepam;Tiotropium Bromide;Vilanterol Trifenatate;Fluticasone Propionate;Budesonide;Perindopril;Pantoprazole                                                             1\n",
      "Prednisone;Tiotropium;Montelukast;Budesonide;Omeprazole;Vitamin D3;Fluticasone Furoate\\Vilanterol Trifenatate;Zileuton;Fluticasone Propionate\\Salmeterol Xinafoate        1\n",
      "Tetracaine;Innovar                                                                                                                                                        1\n",
      "Name: Concomitant Product Names, Length: 31802, dtype: int64\n",
      "Asthma                                                                                                             11507\n",
      "Drug Ineffective;Asthma                                                                                              556\n",
      "Asthma;Drug Ineffective                                                                                              526\n",
      "Hospitalisation;Asthma                                                                                               524\n",
      "Asthma;Hospitalisation                                                                                               519\n",
      "                                                                                                                   ...  \n",
      "Fall;Vomiting;Cyanosis;Hypotension;Asthma;Bronchospasm;Cardiac Failure;Cardiac Arrest;Bradycardia;Shock;Malaise        1\n",
      "Laryngeal Oedema;Asthma;Cyanosis;Dyspnoea                                                                              1\n",
      "Asthma;Dermatitis;Rhinitis                                                                                             1\n",
      "Urticaria;Asthma;Nausea                                                                                                1\n",
      "Nausea;Asthma;Urticaria                                                                                                1\n",
      "Name: Reactions, Length: 62502, dtype: int64\n",
      "1    72134\n",
      "0    20190\n",
      "Name: Serious, dtype: int64\n",
      "-                                                                                                   15982\n",
      "Xolair                                                                                               5068\n",
      "Dupixent                                                                                             3302\n",
      "Symbicort                                                                                            2090\n",
      "Humira                                                                                               1592\n",
      "                                                                                                    ...  \n",
      "Metformin;Synthroid;Singulair;Montelukast;Pulmicort Turbuhaler;Xolair;Invokana                          1\n",
      "Metformin;Synthroid;Spiriva;Elavil;Wellbutrin Xl;Symbicort;Glumetza;Abilify;Pulmicort Turbuhaler        1\n",
      "Metformin;Synthroid;Wellbutrin;Symbicort;Spiriva;Abilify;Pulmicort Turbuhaler                           1\n",
      "Metformin;Tradjenta                                                                                     1\n",
      "Nucala;Symbicort;Atrovent                                                                               1\n",
      "Name: Suspect Product Names, Length: 13828, dtype: int64\n",
      "1    47467\n",
      "2    41687\n",
      "0     3170\n",
      "Name: Reporter Type, dtype: int64\n",
      "1    72134\n",
      "0    20190\n",
      "Name: Sex, dtype: int64\n",
      "Other Outcomes                                                                                         31802\n",
      "Non-Serious                                                                                            20191\n",
      "Hospitalized                                                                                           18361\n",
      "Hospitalized;Other Outcomes                                                                             6205\n",
      "Other Outcomes;Hospitalized                                                                             5965\n",
      "                                                                                                       ...  \n",
      "Died;Hospitalized;Disabled;Other Outcomes;Congenital Anomaly;Life Threatening;Required Intervention        1\n",
      "Required Intervention;Hospitalized;Life Threatening;Disabled                                               1\n",
      "Disabled;Required Intervention;Hospitalized;Life Threatening                                               1\n",
      "Congenital Anomaly;Other Outcomes;Died;Disabled;Hospitalized                                               1\n",
      "Life Threatening;Other Outcomes;Hospitalized;Required Intervention                                         1\n",
      "Name: Outcomes, Length: 408, dtype: int64\n",
      "0    92022\n",
      "1      302\n",
      "Name: Reported to Manufacturer?, dtype: int64\n",
      "Omalizumab                                                                                                                                                                                           4446\n",
      "Fluticasone Propionate\\Salmeterol Xinafoate                                                                                                                                                          3466\n",
      "Dupilumab                                                                                                                                                                                            3438\n",
      "Albuterol Sulfate                                                                                                                                                                                    2873\n",
      "Budesonide\\Formoterol Fumarate Dihydrate                                                                                                                                                             1664\n",
      "                                                                                                                                                                                                     ... \n",
      "Metformin Hydrochloride;Mometasone Furoate;Omalizumab;Pantoprazole;Glycopyrrolate;Rosuvastatin                                                                                                          1\n",
      "Metformin Hydrochloride;Rosuvastatin;Pantoprazole;Glycopyrrolate;Omalizumab;Mometasone Furoate                                                                                                          1\n",
      "Metformin Hydrochloride;Doxepin Hydrochloride;Fluticasone Propionate\\Salmeterol Xinafoate;Quetiapine;Theophylline Anhydrous;Levothyroxine Sodium;Albuterol Sulfate;Pravastatin;Tiotropium Bromide       1\n",
      "Metformin Hydrochloride;Pantoprazole;Rosuvastatin;Glycopyrrolate;Omalizumab;Mometasone Furoate                                                                                                          1\n",
      "Unspecified Ingredient;Aspirin                                                                                                                                                                          1\n",
      "Name: Suspect Product Active Ingredients, Length: 22865, dtype: int64\n",
      "-                                                                                                                                                                                                                                            18318\n",
      "Asthma                                                                                                                                                                                                                                       16960\n",
      "Product Used For Unknown Indication                                                                                                                                                                                                           9727\n",
      "Asthma;Product Used For Unknown Indication                                                                                                                                                                                                    8752\n",
      "Rheumatoid Arthritis                                                                                                                                                                                                                          1947\n",
      "                                                                                                                                                                                                                                             ...  \n",
      "Cataplexy;Narcolepsy;Product Used For Unknown Indication;Raynaud's Phenomenon                                                                                                                                                                    1\n",
      "Anxiety;Arterial Disorder;Arthralgia;Asthma;Chest Pain;Depression;Diabetes Mellitus;Fibromyalgia;Fluid Retention;Gastrooesophageal Reflux Disease;Hypersensitivity;Hypertension;Migraine;Muscle Spasms;Neuropathy Peripheral;Panic Attack        1\n",
      "Bronchitis;Cough;Pneumonia;Product Used For Unknown Indication                                                                                                                                                                                   1\n",
      "Depression;Hypersensitivity;Smoking Cessation Therapy;Tobacco Abuse                                                                                                                                                                              1\n",
      "Tooth Disorder                                                                                                                                                                                                                                   1\n",
      "Name: Reason for Use, Length: 10960, dtype: int64\n"
     ]
    }
   ],
   "source": [
    "\n",
    "# select the columns of interest\n",
    "cols_of_interest = ['Suspect Product Names', 'Reason for Use', 'Suspect Product Active Ingredients',\n",
    "                    'Reactions', 'Serious', 'Sex', 'Patient Age', 'Patient Weight',\n",
    "                    'Reporter Type', 'Report Source', 'Concomitant Product Names',\n",
    "                    'Country where Event occurred', 'Outcomes', 'Reported to Manufacturer?']\n",
    "\n",
    "# get basic descriptive statistics for the numeric columns\n",
    "numeric_cols = ['Patient Age', 'Patient Weight']\n",
    "print(cleaned_data[numeric_cols].describe())\n",
    "\n",
    "\n",
    "# get basic descriptive statistics for the categorical columns\n",
    "categorical_cols = list(set(cols_of_interest) - set(numeric_cols))\n",
    "for col in categorical_cols:\n",
    "    print(cleaned_data[col].value_counts())\n"
   ]
  },
  {
   "cell_type": "code",
   "execution_count": null,
   "id": "6148ee47",
   "metadata": {},
   "outputs": [],
   "source": []
  },
  {
   "cell_type": "code",
   "execution_count": 24,
   "id": "2865e531",
   "metadata": {},
   "outputs": [
    {
     "name": "stdout",
     "output_type": "stream",
     "text": [
      "      Suspect Product Names Reason for Use  \\\n",
      "0               A-Methapred              -   \n",
      "1               A-Methapred              -   \n",
      "2               A-Methapred              -   \n",
      "3               A-Methapred              -   \n",
      "4               A-Methapred              -   \n",
      "...                     ...            ...   \n",
      "92319                     -              -   \n",
      "92320                     -              -   \n",
      "92321                     -              -   \n",
      "92322                     -              -   \n",
      "92323                     -              -   \n",
      "\n",
      "        Suspect Product Active Ingredients  \\\n",
      "0      Methylprednisolone Sodium Succinate   \n",
      "1      Methylprednisolone Sodium Succinate   \n",
      "2      Methylprednisolone Sodium Succinate   \n",
      "3      Methylprednisolone Sodium Succinate   \n",
      "4      Methylprednisolone Sodium Succinate   \n",
      "...                                    ...   \n",
      "92319                       Nitrofurantoin   \n",
      "92320                           Gentamicin   \n",
      "92321                              Aspirin   \n",
      "92322               Gold Sodium Thiomalate   \n",
      "92323                              Aspirin   \n",
      "\n",
      "                                              Reactions Serious Sex  \\\n",
      "0          Condition Aggravated;Asthma;Drug Ineffective       0   0   \n",
      "1                Vasodilatation;Asthma;Hypersensitivity       1   1   \n",
      "2       Dysphagia;Anxiety;Anaphylactoid Reaction;Asthma       1   1   \n",
      "3                           Condition Aggravated;Asthma       0   0   \n",
      "4      Conjunctival Oedema;Asthma;Pharyngitis;Urticaria       1   1   \n",
      "...                                                 ...     ...  ..   \n",
      "92319                                            Asthma       1   1   \n",
      "92320                                            Asthma       1   1   \n",
      "92321                                            Asthma       1   1   \n",
      "92322                             Asthma;Vasodilatation       1   1   \n",
      "92323                                   Asthma;Rhinitis       1   1   \n",
      "\n",
      "       Patient Age  Patient Weight Reporter Type        Report Source  \\\n",
      "0             39.0            81.0             1  Health Professional   \n",
      "1              3.0            81.0             1  Health Professional   \n",
      "2             53.0            81.0             1  Health Professional   \n",
      "3             54.0            81.0             1  Health Professional   \n",
      "4             14.0            81.0             2  Health Professional   \n",
      "...            ...             ...           ...                  ...   \n",
      "92319         40.0            81.0             2  Health Professional   \n",
      "92320         57.0            81.0             2  Health Professional   \n",
      "92321         58.0            81.0             2  Health Professional   \n",
      "92322         54.0            81.0             2  Health Professional   \n",
      "92323         24.0            81.0             2  Health Professional   \n",
      "\n",
      "                               Concomitant Product Names  \\\n",
      "0                                     Methylprednisolone   \n",
      "1      Midazolam Hydrochloride;Acetaminophen;Albutero...   \n",
      "2                            Vanceril;Theo-Dur;Albuterol   \n",
      "3                                                      -   \n",
      "4                                              Captopril   \n",
      "...                                                  ...   \n",
      "92319                                                  -   \n",
      "92320                                                  -   \n",
      "92321                                                  -   \n",
      "92322                                                  -   \n",
      "92323                                                  -   \n",
      "\n",
      "      Country where Event occurred        Outcomes Reported to Manufacturer?  \n",
      "0                    Not Specified     Non-Serious                         0  \n",
      "1                    Not Specified  Other Outcomes                         0  \n",
      "2                    Not Specified  Other Outcomes                         0  \n",
      "3                    Not Specified     Non-Serious                         0  \n",
      "4                    Not Specified  Other Outcomes                         0  \n",
      "...                            ...             ...                       ...  \n",
      "92319                Not Specified  Other Outcomes                         0  \n",
      "92320                Not Specified  Other Outcomes                         0  \n",
      "92321                Not Specified  Other Outcomes                         0  \n",
      "92322                Not Specified  Other Outcomes                         0  \n",
      "92323                Not Specified  Other Outcomes                         0  \n",
      "\n",
      "[92324 rows x 14 columns]\n"
     ]
    }
   ],
   "source": [
    "print(cleaned_data)"
   ]
  },
  {
   "cell_type": "code",
   "execution_count": 25,
   "id": "23b850e4",
   "metadata": {},
   "outputs": [
    {
     "data": {
      "text/html": [
       "<div>\n",
       "<style scoped>\n",
       "    .dataframe tbody tr th:only-of-type {\n",
       "        vertical-align: middle;\n",
       "    }\n",
       "\n",
       "    .dataframe tbody tr th {\n",
       "        vertical-align: top;\n",
       "    }\n",
       "\n",
       "    .dataframe thead th {\n",
       "        text-align: right;\n",
       "    }\n",
       "</style>\n",
       "<table border=\"1\" class=\"dataframe\">\n",
       "  <thead>\n",
       "    <tr style=\"text-align: right;\">\n",
       "      <th></th>\n",
       "      <th>Patient Age</th>\n",
       "      <th>Patient Weight</th>\n",
       "    </tr>\n",
       "  </thead>\n",
       "  <tbody>\n",
       "    <tr>\n",
       "      <th>count</th>\n",
       "      <td>92324.000000</td>\n",
       "      <td>92324.000000</td>\n",
       "    </tr>\n",
       "    <tr>\n",
       "      <th>mean</th>\n",
       "      <td>50.778920</td>\n",
       "      <td>78.590377</td>\n",
       "    </tr>\n",
       "    <tr>\n",
       "      <th>std</th>\n",
       "      <td>15.088449</td>\n",
       "      <td>8.887529</td>\n",
       "    </tr>\n",
       "    <tr>\n",
       "      <th>min</th>\n",
       "      <td>0.000000</td>\n",
       "      <td>0.000000</td>\n",
       "    </tr>\n",
       "    <tr>\n",
       "      <th>25%</th>\n",
       "      <td>48.000000</td>\n",
       "      <td>81.000000</td>\n",
       "    </tr>\n",
       "    <tr>\n",
       "      <th>50%</th>\n",
       "      <td>54.000000</td>\n",
       "      <td>81.000000</td>\n",
       "    </tr>\n",
       "    <tr>\n",
       "      <th>75%</th>\n",
       "      <td>57.000000</td>\n",
       "      <td>81.000000</td>\n",
       "    </tr>\n",
       "    <tr>\n",
       "      <th>max</th>\n",
       "      <td>78.000000</td>\n",
       "      <td>81.000000</td>\n",
       "    </tr>\n",
       "  </tbody>\n",
       "</table>\n",
       "</div>"
      ],
      "text/plain": [
       "        Patient Age  Patient Weight\n",
       "count  92324.000000    92324.000000\n",
       "mean      50.778920       78.590377\n",
       "std       15.088449        8.887529\n",
       "min        0.000000        0.000000\n",
       "25%       48.000000       81.000000\n",
       "50%       54.000000       81.000000\n",
       "75%       57.000000       81.000000\n",
       "max       78.000000       81.000000"
      ]
     },
     "execution_count": 25,
     "metadata": {},
     "output_type": "execute_result"
    }
   ],
   "source": [
    "cleaned_data.describe()\n"
   ]
  },
  {
   "cell_type": "code",
   "execution_count": null,
   "id": "a85999bc",
   "metadata": {},
   "outputs": [],
   "source": []
  },
  {
   "cell_type": "code",
   "execution_count": null,
   "id": "7ff33254",
   "metadata": {},
   "outputs": [],
   "source": []
  }
 ],
 "metadata": {
  "kernelspec": {
   "display_name": "Python 3 (ipykernel)",
   "language": "python",
   "name": "python3"
  },
  "language_info": {
   "codemirror_mode": {
    "name": "ipython",
    "version": 3
   },
   "file_extension": ".py",
   "mimetype": "text/x-python",
   "name": "python",
   "nbconvert_exporter": "python",
   "pygments_lexer": "ipython3",
   "version": "3.9.12"
  }
 },
 "nbformat": 4,
 "nbformat_minor": 5
}
