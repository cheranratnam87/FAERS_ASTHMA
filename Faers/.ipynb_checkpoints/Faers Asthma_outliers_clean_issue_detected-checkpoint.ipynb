{
 "cells": [
  {
   "cell_type": "code",
   "execution_count": 1,
   "id": "27237a23",
   "metadata": {},
   "outputs": [],
   "source": [
    "import os\n",
    "import pandas as pd\n",
    "import numpy as np\n",
    "import matplotlib.pyplot as plt\n",
    "\n",
    "# Get current working directory\n",
    "current_dir = os.getcwd()\n",
    "\n",
    "# Navigate to data folder\n",
    "data_dir = os.path.join(current_dir, \"data\")\n",
    "\n",
    "# Read CSV file\n",
    "df = pd.read_csv(os.path.join(data_dir, \"faers_asthma.csv\"), sep=\",\")\n"
   ]
  },
  {
   "cell_type": "code",
   "execution_count": 2,
   "id": "2a3daa22",
   "metadata": {
    "scrolled": false
   },
   "outputs": [
    {
     "name": "stdout",
     "output_type": "stream",
     "text": [
      "<bound method NDFrame.head of        Case ID Suspect Product Names   Suspect Product Active Ingredients  \\\n",
      "0      4974950           A-Methapred  Methylprednisolone Sodium Succinate   \n",
      "1      4974946           A-Methapred  Methylprednisolone Sodium Succinate   \n",
      "2      4652544           A-Methapred  Methylprednisolone Sodium Succinate   \n",
      "3      4656790           A-Methapred  Methylprednisolone Sodium Succinate   \n",
      "4      4610124           A-Methapred  Methylprednisolone Sodium Succinate   \n",
      "...        ...                   ...                                  ...   \n",
      "92319  4230505                     -                       Nitrofurantoin   \n",
      "92320  4236734                     -                           Gentamicin   \n",
      "92321  4235917                     -                              Aspirin   \n",
      "92322  4234961                     -               Gold Sodium Thiomalate   \n",
      "92323  4227900                     -                              Aspirin   \n",
      "\n",
      "      Reason for Use                                         Reactions  \\\n",
      "0                  -      Condition Aggravated;Asthma;Drug Ineffective   \n",
      "1                  -            Vasodilatation;Asthma;Hypersensitivity   \n",
      "2                  -   Dysphagia;Anxiety;Anaphylactoid Reaction;Asthma   \n",
      "3                  -                       Condition Aggravated;Asthma   \n",
      "4                  -  Conjunctival Oedema;Asthma;Pharyngitis;Urticaria   \n",
      "...              ...                                               ...   \n",
      "92319              -                                            Asthma   \n",
      "92320              -                                            Asthma   \n",
      "92321              -                                            Asthma   \n",
      "92322              -                             Asthma;Vasodilatation   \n",
      "92323              -                                   Asthma;Rhinitis   \n",
      "\n",
      "           Serious        Outcomes     Sex   Event Date  \\\n",
      "0      Non-Serious     Non-Serious  Female  29-SEP-1992   \n",
      "1          Serious  Other Outcomes    Male  01-NOV-1992   \n",
      "2          Serious  Other Outcomes  Female  28-APR-1988   \n",
      "3      Non-Serious     Non-Serious    Male  01-FEB-1989   \n",
      "4          Serious  Other Outcomes    Male  08-AUG-1988   \n",
      "...            ...             ...     ...          ...   \n",
      "92319      Serious  Other Outcomes  Female  28-OCT-1969   \n",
      "92320      Serious  Other Outcomes  Female  30-DEC-1969   \n",
      "92321      Serious  Other Outcomes    Male  04-NOV-1969   \n",
      "92322      Serious  Other Outcomes    Male  02-DEC-1969   \n",
      "92323      Serious  Other Outcomes    Male  01-JAN-1966   \n",
      "\n",
      "      Latest FDA Received Date  ...            Reporter Type  \\\n",
      "0                  29-MAR-1993  ...                 Consumer   \n",
      "1                  29-MAR-1993  ...                 Consumer   \n",
      "2                  10-MAY-1989  ...                 Consumer   \n",
      "3                  05-MAY-1989  ...                 Consumer   \n",
      "4                  15-AUG-1988  ...  Healthcare Professional   \n",
      "...                        ...  ...                      ...   \n",
      "92319              01-FEB-1970  ...  Healthcare Professional   \n",
      "92320              01-JAN-1970  ...  Healthcare Professional   \n",
      "92321              01-JAN-1970  ...  Healthcare Professional   \n",
      "92322              01-DEC-1969  ...  Healthcare Professional   \n",
      "92323              01-DEC-1969  ...  Healthcare Professional   \n",
      "\n",
      "             Report Source                          Concomitant Product Names  \\\n",
      "0      Health Professional                                 Methylprednisolone   \n",
      "1      Health Professional  Midazolam Hydrochloride;Acetaminophen;Albutero...   \n",
      "2      Health Professional                        Vanceril;Theo-Dur;Albuterol   \n",
      "3      Health Professional                                                  -   \n",
      "4      Health Professional                                          Captopril   \n",
      "...                    ...                                                ...   \n",
      "92319  Health Professional                                                  -   \n",
      "92320  Health Professional                                                  -   \n",
      "92321  Health Professional                                                  -   \n",
      "92322  Health Professional                                                  -   \n",
      "92323  Health Professional                                                  -   \n",
      "\n",
      "      Latest Manufacturer Received Date Initial FDA Received Date  \\\n",
      "0                           29-JAN-1993               29-MAR-1993   \n",
      "1                                     -               29-MAR-1993   \n",
      "2                                     -               10-MAY-1989   \n",
      "3                                     -               05-MAY-1989   \n",
      "4                                     -               15-AUG-1988   \n",
      "...                                 ...                       ...   \n",
      "92319                                 -               01-FEB-1970   \n",
      "92320                                 -               01-JAN-1970   \n",
      "92321                                 -               01-JAN-1970   \n",
      "92322                                 -               01-DEC-1969   \n",
      "92323                                 -               01-DEC-1969   \n",
      "\n",
      "      Country where Event occurred Reported to Manufacturer?  \\\n",
      "0                    Not Specified             Not Specified   \n",
      "1                    Not Specified             Not Specified   \n",
      "2                    Not Specified             Not Specified   \n",
      "3                    Not Specified             Not Specified   \n",
      "4                    Not Specified             Not Specified   \n",
      "...                            ...                       ...   \n",
      "92319                Not Specified             Not Specified   \n",
      "92320                Not Specified             Not Specified   \n",
      "92321                Not Specified             Not Specified   \n",
      "92322                Not Specified             Not Specified   \n",
      "92323                Not Specified             Not Specified   \n",
      "\n",
      "      Manufacturer Control Number Literature Reference Compounded Flag  \n",
      "0                      H2009572AO                    -               -  \n",
      "1                      H2009373AO                    -               -  \n",
      "2                        H36208A0                    -               -  \n",
      "3                        H37322A0                    -               -  \n",
      "4                               -                    -               -  \n",
      "...                           ...                  ...             ...  \n",
      "92319                           -                    -               -  \n",
      "92320                           -                    -               -  \n",
      "92321                           -                    -               -  \n",
      "92322                           -                    -               -  \n",
      "92323                           -                    -               -  \n",
      "\n",
      "[92324 rows x 24 columns]>\n"
     ]
    }
   ],
   "source": [
    "print(df.head)"
   ]
  },
  {
   "cell_type": "code",
   "execution_count": 3,
   "id": "83dfac50",
   "metadata": {},
   "outputs": [
    {
     "name": "stdout",
     "output_type": "stream",
     "text": [
      "Number of missing or 'Not Specified' values in the Patient Age column: 31174\n"
     ]
    }
   ],
   "source": [
    "# Count the number of missing or \"Not Specified\" values in the Patient Age column\n",
    "num_missing_age = df['Patient Age'].isnull().sum() + (df['Patient Age'] == 'Not Specified').sum()\n",
    "\n",
    "print(f\"Number of missing or 'Not Specified' values in the Patient Age column: {num_missing_age}\")\n"
   ]
  },
  {
   "cell_type": "code",
   "execution_count": 4,
   "id": "9096149c",
   "metadata": {},
   "outputs": [
    {
     "name": "stdout",
     "output_type": "stream",
     "text": [
      "Number of missing or 'Not Specified' values in the Patient Weight column: 70933\n"
     ]
    }
   ],
   "source": [
    "# Count the number of missing or \"Not Specified\" values in the Patient Weight column\n",
    "num_missing_age = df['Patient Weight'].isnull().sum() + (df['Patient Weight'] == 'Not Specified').sum()\n",
    "\n",
    "print(f\"Number of missing or 'Not Specified' values in the Patient Weight column: {num_missing_age}\")\n"
   ]
  },
  {
   "cell_type": "code",
   "execution_count": 5,
   "id": "4a4a7009",
   "metadata": {},
   "outputs": [
    {
     "name": "stdout",
     "output_type": "stream",
     "text": [
      "Missing value counts:\n",
      "Case ID                                   0\n",
      "Suspect Product Names                     0\n",
      "Suspect Product Active Ingredients        0\n",
      "Reason for Use                            0\n",
      "Reactions                                 0\n",
      "Serious                                   0\n",
      "Outcomes                                  0\n",
      "Sex                                    7879\n",
      "Event Date                                0\n",
      "Latest FDA Received Date                  0\n",
      "Case Priority                             0\n",
      "Patient Age                           31174\n",
      "Patient Weight                        70933\n",
      "Sender                                    0\n",
      "Reporter Type                          3170\n",
      "Report Source                         68484\n",
      "Concomitant Product Names                 2\n",
      "Latest Manufacturer Received Date         0\n",
      "Initial FDA Received Date                 0\n",
      "Country where Event occurred          22718\n",
      "Reported to Manufacturer?             92022\n",
      "Manufacturer Control Number               0\n",
      "Literature Reference                      1\n",
      "Compounded Flag                           0\n",
      "dtype: int64\n"
     ]
    }
   ],
   "source": [
    "# Count the number of missing or \"Not Specified\" values in each column\n",
    "missing_counts = df.isnull().sum() + (df == 'Not Specified').sum()\n",
    "\n",
    "print(\"Missing value counts:\")\n",
    "print(missing_counts)\n"
   ]
  },
  {
   "cell_type": "code",
   "execution_count": 6,
   "id": "aaa7b75a",
   "metadata": {
    "scrolled": false
   },
   "outputs": [
    {
     "name": "stdout",
     "output_type": "stream",
     "text": [
      "          Patient Age Patient Weight\n",
      "count           92324          92324\n",
      "unique           1124           2801\n",
      "top     Not Specified  Not Specified\n",
      "freq            31174          70933\n",
      "Not Specified                                                       68484\n",
      "Health Professional                                                 13816\n",
      "Consumer                                                             4319\n",
      "Health Professional ,Foreign                                         1347\n",
      "Health Professional ,Study                                            516\n",
      "                                                                    ...  \n",
      "Company Representative ,Health Professional ,Distributor,Foreign        1\n",
      "Company Representative ,Study,Foreign                                   1\n",
      "User Facility ,Health Professional ,Distributor                         1\n",
      "User Facility ,Health Professional ,Literature                          1\n",
      "Consumer,Literature                                                     1\n",
      "Name: Report Source, Length: 94, dtype: int64\n",
      "Omalizumab                                                                                                                                                                                           4446\n",
      "Fluticasone Propionate\\Salmeterol Xinafoate                                                                                                                                                          3466\n",
      "Dupilumab                                                                                                                                                                                            3438\n",
      "Albuterol Sulfate                                                                                                                                                                                    2873\n",
      "Budesonide\\Formoterol Fumarate Dihydrate                                                                                                                                                             1664\n",
      "                                                                                                                                                                                                     ... \n",
      "Metformin Hydrochloride;Mometasone Furoate;Omalizumab;Pantoprazole;Glycopyrrolate;Rosuvastatin                                                                                                          1\n",
      "Metformin Hydrochloride;Rosuvastatin;Pantoprazole;Glycopyrrolate;Omalizumab;Mometasone Furoate                                                                                                          1\n",
      "Metformin Hydrochloride;Doxepin Hydrochloride;Fluticasone Propionate\\Salmeterol Xinafoate;Quetiapine;Theophylline Anhydrous;Levothyroxine Sodium;Albuterol Sulfate;Pravastatin;Tiotropium Bromide       1\n",
      "Metformin Hydrochloride;Pantoprazole;Rosuvastatin;Glycopyrrolate;Omalizumab;Mometasone Furoate                                                                                                          1\n",
      "Unspecified Ingredient;Aspirin                                                                                                                                                                          1\n",
      "Name: Suspect Product Active Ingredients, Length: 22865, dtype: int64\n",
      "-                                                                                                                                                                                                                                            18318\n",
      "Asthma                                                                                                                                                                                                                                       16960\n",
      "Product Used For Unknown Indication                                                                                                                                                                                                           9727\n",
      "Asthma;Product Used For Unknown Indication                                                                                                                                                                                                    8752\n",
      "Rheumatoid Arthritis                                                                                                                                                                                                                          1947\n",
      "                                                                                                                                                                                                                                             ...  \n",
      "Cataplexy;Narcolepsy;Product Used For Unknown Indication;Raynaud's Phenomenon                                                                                                                                                                    1\n",
      "Anxiety;Arterial Disorder;Arthralgia;Asthma;Chest Pain;Depression;Diabetes Mellitus;Fibromyalgia;Fluid Retention;Gastrooesophageal Reflux Disease;Hypersensitivity;Hypertension;Migraine;Muscle Spasms;Neuropathy Peripheral;Panic Attack        1\n",
      "Bronchitis;Cough;Pneumonia;Product Used For Unknown Indication                                                                                                                                                                                   1\n",
      "Depression;Hypersensitivity;Smoking Cessation Therapy;Tobacco Abuse                                                                                                                                                                              1\n",
      "Tooth Disorder                                                                                                                                                                                                                                   1\n",
      "Name: Reason for Use, Length: 10960, dtype: int64\n",
      "US               36473\n",
      "Not Specified    22717\n",
      "CA               19590\n",
      "GB                2664\n",
      "JP                1821\n",
      "                 ...  \n",
      "CM                   1\n",
      "AM                   1\n",
      "NP                   1\n",
      "BO                   1\n",
      "GE                   1\n",
      "Name: Country where Event occurred, Length: 111, dtype: int64\n",
      "Other Outcomes                                                                                         31802\n",
      "Non-Serious                                                                                            20191\n",
      "Hospitalized                                                                                           18361\n",
      "Hospitalized;Other Outcomes                                                                             6205\n",
      "Other Outcomes;Hospitalized                                                                             5965\n",
      "                                                                                                       ...  \n",
      "Died;Hospitalized;Disabled;Other Outcomes;Congenital Anomaly;Life Threatening;Required Intervention        1\n",
      "Required Intervention;Hospitalized;Life Threatening;Disabled                                               1\n",
      "Disabled;Required Intervention;Hospitalized;Life Threatening                                               1\n",
      "Congenital Anomaly;Other Outcomes;Died;Disabled;Hospitalized                                               1\n",
      "Life Threatening;Other Outcomes;Hospitalized;Required Intervention                                         1\n",
      "Name: Outcomes, Length: 408, dtype: int64\n",
      "-                                                                                                   15982\n",
      "Xolair                                                                                               5068\n",
      "Dupixent                                                                                             3302\n",
      "Symbicort                                                                                            2090\n",
      "Humira                                                                                               1592\n",
      "                                                                                                    ...  \n",
      "Metformin;Synthroid;Singulair;Montelukast;Pulmicort Turbuhaler;Xolair;Invokana                          1\n",
      "Metformin;Synthroid;Spiriva;Elavil;Wellbutrin Xl;Symbicort;Glumetza;Abilify;Pulmicort Turbuhaler        1\n",
      "Metformin;Synthroid;Wellbutrin;Symbicort;Spiriva;Abilify;Pulmicort Turbuhaler                           1\n",
      "Metformin;Tradjenta                                                                                     1\n",
      "Nucala;Symbicort;Atrovent                                                                               1\n",
      "Name: Suspect Product Names, Length: 13828, dtype: int64\n",
      "Asthma                                                                                                             11507\n",
      "Drug Ineffective;Asthma                                                                                              556\n",
      "Asthma;Drug Ineffective                                                                                              526\n",
      "Hospitalisation;Asthma                                                                                               524\n",
      "Asthma;Hospitalisation                                                                                               519\n",
      "                                                                                                                   ...  \n",
      "Fall;Vomiting;Cyanosis;Hypotension;Asthma;Bronchospasm;Cardiac Failure;Cardiac Arrest;Bradycardia;Shock;Malaise        1\n",
      "Laryngeal Oedema;Asthma;Cyanosis;Dyspnoea                                                                              1\n",
      "Asthma;Dermatitis;Rhinitis                                                                                             1\n",
      "Urticaria;Asthma;Nausea                                                                                                1\n",
      "Nausea;Asthma;Urticaria                                                                                                1\n",
      "Name: Reactions, Length: 62502, dtype: int64\n",
      "Serious        72134\n",
      "Non-Serious    20190\n",
      "Name: Serious, dtype: int64\n",
      "-                                                                                                                                                                     49597\n",
      "Prednisone                                                                                                                                                              811\n",
      "Nucala                                                                                                                                                                  708\n",
      "Albuterol                                                                                                                                                               631\n",
      "Unspecified Ingredient                                                                                                                                                  581\n",
      "                                                                                                                                                                      ...  \n",
      "Fluticasone;Pantoprazole;Vilanterol Trifenatate;Tiotropium;Budesonide;Oxazepam;Perindopril                                                                                1\n",
      "Hydroxyzine Hydrochloride;Candesartan;Oxazepam;Montelukast;Pantoprazole;Perindopril                                                                                       1\n",
      "Oxazepam;Tiotropium Bromide;Vilanterol Trifenatate;Fluticasone Propionate;Budesonide;Perindopril;Pantoprazole                                                             1\n",
      "Prednisone;Tiotropium;Montelukast;Budesonide;Omeprazole;Vitamin D3;Fluticasone Furoate\\Vilanterol Trifenatate;Zileuton;Fluticasone Propionate\\Salmeterol Xinafoate        1\n",
      "Tetracaine;Innovar                                                                                                                                                        1\n",
      "Name: Concomitant Product Names, Length: 31802, dtype: int64\n",
      "Consumer                   47467\n",
      "Healthcare Professional    41687\n",
      "Not Specified               3170\n",
      "Name: Reporter Type, dtype: int64\n",
      "Female           58453\n",
      "Male             25992\n",
      "Not Specified     7879\n",
      "Name: Sex, dtype: int64\n",
      "Not Specified    92022\n",
      "Y                  302\n",
      "Name: Reported to Manufacturer?, dtype: int64\n"
     ]
    }
   ],
   "source": [
    "# Before making any changes to the variables - what does the distribution look like?\n",
    "# select the columns of interest\n",
    "cols_of_interest = ['Suspect Product Names', 'Reason for Use', 'Suspect Product Active Ingredients',\n",
    "                    'Reactions', 'Serious', 'Sex', 'Patient Age', 'Patient Weight',\n",
    "                    'Reporter Type', 'Report Source', 'Concomitant Product Names',\n",
    "                    'Country where Event occurred', 'Outcomes', 'Reported to Manufacturer?']\n",
    "\n",
    "# get basic descriptive statistics for the numeric columns\n",
    "numeric_cols = ['Patient Age', 'Patient Weight']\n",
    "print(df[numeric_cols].describe())\n",
    "\n",
    "\n",
    "# get basic descriptive statistics for the categorical columns\n",
    "categorical_cols = list(set(cols_of_interest) - set(numeric_cols))\n",
    "for col in categorical_cols:\n",
    "    print(df[col].value_counts())"
   ]
  },
  {
   "cell_type": "code",
   "execution_count": 7,
   "id": "18ae5507",
   "metadata": {
    "scrolled": true
   },
   "outputs": [],
   "source": [
    "#Create Patient Age column to be only numeric\n",
    "df['Patient Age'] = df['Patient Age'].str.extract('(\\d+)').astype(float)\n",
    "\n"
   ]
  },
  {
   "cell_type": "code",
   "execution_count": 8,
   "id": "2d2e312e",
   "metadata": {},
   "outputs": [],
   "source": [
    "#Create Patient Weight column to be only numeric \n",
    "df['Patient Weight'] = df['Patient Weight'].str.extract('(\\d+)').astype(float)\n"
   ]
  },
  {
   "cell_type": "code",
   "execution_count": 9,
   "id": "de163ce2",
   "metadata": {
    "scrolled": true
   },
   "outputs": [
    {
     "data": {
      "image/png": "[encoded data removed]",
      "text/plain": [
       "<Figure size 640x480 with 1 Axes>"
      ]
     },
     "metadata": {},
     "output_type": "display_data"
    }
   ],
   "source": [
    "#Visualizing patient age\n",
    "\n",
    "\n",
    "# create a scatter plot of patient age\n",
    "plt.scatter(df['Patient Age'], range(len(df)))\n",
    "plt.xlabel('Patient Age')\n",
    "plt.ylabel('Index')\n",
    "plt.title('Scatter Plot of Patient Age')\n",
    "plt.show()\n"
   ]
  },
  {
   "cell_type": "code",
   "execution_count": 10,
   "id": "78b09d8c",
   "metadata": {
    "scrolled": true
   },
   "outputs": [
    {
     "data": {
      "image/png": "[encoded data removed]",
      "text/plain": [
       "<Figure size 640x480 with 1 Axes>"
      ]
     },
     "metadata": {},
     "output_type": "display_data"
    }
   ],
   "source": [
    "#visualizing patient weight\n",
    "\n",
    "# create a scatter plot of patient weight\n",
    "plt.scatter(df['Patient Weight'], range(len(df)))\n",
    "plt.xlabel('Patient Weight')\n",
    "plt.ylabel('Index') \n",
    "plt.title('Scatter Plot of Patient Weight')\n",
    "plt.show()\n"
   ]
  },
  {
   "cell_type": "code",
   "execution_count": 11,
   "id": "75820da7",
   "metadata": {
    "scrolled": true
   },
   "outputs": [
    {
     "name": "stdout",
     "output_type": "stream",
     "text": [
      "        Patient Age  Patient Weight\n",
      "count  61150.000000    21391.000000\n",
      "mean     271.105004       94.413211\n",
      "std     2212.847300       50.444914\n",
      "min        0.000000        0.000000\n",
      "25%       39.000000       64.000000\n",
      "50%       54.000000       81.000000\n",
      "75%       66.000000      111.000000\n",
      "max    35248.000000      559.000000\n"
     ]
    }
   ],
   "source": [
    "# get basic descriptive statistics for the numeric columns - After making them nominal variables\n",
    "numeric_cols = ['Patient Age', 'Patient Weight']\n",
    "print(df[numeric_cols].describe())\n"
   ]
  },
  {
   "cell_type": "code",
   "execution_count": 37,
   "id": "ef3c9686",
   "metadata": {
    "scrolled": true
   },
   "outputs": [
    {
     "data": {
      "image/png": "[encoded data removed]",
      "text/plain": [
       "<Figure size 640x480 with 1 Axes>"
      ]
     },
     "metadata": {},
     "output_type": "display_data"
    },
    {
     "data": {
      "image/png": "[encoded data removed]",
      "text/plain": [
       "<Figure size 640x480 with 1 Axes>"
      ]
     },
     "metadata": {},
     "output_type": "display_data"
    }
   ],
   "source": [
    "##median, quartiles, and any outliers before removing outliers - is There is an issue with large amounts of patients' ages being incorrect\n",
    "\n",
    "\n",
    "# Create box plot for Patient Age\n",
    "plt.boxplot(df['Patient Age'])\n",
    "plt.title('Patient Age Box Plot')\n",
    "plt.ylim(bottom=0\n",
    "         , top=3525)\n",
    "plt.show()\n",
    "\n",
    "# Create box plot for Patient Weight\n",
    "plt.boxplot(df['Patient Weight'])\n",
    "plt.title('Patient Weight Box Plot')\n",
    "plt.ylim(bottom=0, top=559)\n",
    "plt.show()\n"
   ]
  },
  {
   "cell_type": "code",
   "execution_count": 13,
   "id": "4bf5b6ee",
   "metadata": {},
   "outputs": [],
   "source": [
    "\n",
    "# Create a new column for age range\n",
    "df['Age Range'] = pd.cut(df['Patient Age'], bins=[0, 10, 20, 30, 40, 50, 60, 70, 80, 90, 100], labels=['0-10', '10-20', '20-30', '30-40', '40-50', '50-60', '60-70', '70-80', '80-90', '90-100'])\n"
   ]
  },
  {
   "cell_type": "code",
   "execution_count": 14,
   "id": "d5edcc28",
   "metadata": {},
   "outputs": [
    {
     "name": "stdout",
     "output_type": "stream",
     "text": [
      "50-60     12850\n",
      "60-70     11876\n",
      "40-50      9580\n",
      "70-80      6875\n",
      "30-40      6570\n",
      "20-30      3877\n",
      "10-20      3212\n",
      "0-10       2827\n",
      "80-90      2103\n",
      "90-100      174\n",
      "Name: Age Range, dtype: int64\n"
     ]
    }
   ],
   "source": [
    "# Count number of cases for each age range\n",
    "age_counts = df['Age Range'].value_counts()\n",
    "print(age_counts)\n"
   ]
  },
  {
   "cell_type": "code",
   "execution_count": 15,
   "id": "8d1b71b9",
   "metadata": {
    "scrolled": true
   },
   "outputs": [
    {
     "name": "stdout",
     "output_type": "stream",
     "text": [
      "  Age Range  Age Range Count\n",
      "0      0-10             2827\n",
      "1     10-20             3212\n",
      "2     20-30             3877\n",
      "3     30-40             6570\n",
      "4     40-50             9580\n",
      "5     50-60            12850\n",
      "6     60-70            11876\n",
      "7     70-80             6875\n",
      "8     80-90             2103\n",
      "9    90-100              174\n"
     ]
    }
   ],
   "source": [
    "# Group the DataFrame by Age Range and count the number of rows in each group\n",
    "age_range_counts = df.groupby('Age Range').size().reset_index(name='Age Range Count')\n",
    "\n",
    "print(age_range_counts)\n"
   ]
  },
  {
   "cell_type": "code",
   "execution_count": 16,
   "id": "4a8cd2cb",
   "metadata": {},
   "outputs": [],
   "source": [
    "# Group the DataFrame by Age Range and count the number of rows in each group\n",
    "age_range_counts = df.groupby('Age Range').size().reset_index(name='Age Range Count')\n",
    "\n",
    "# Join the age_range_counts DataFrame to the original DataFrame\n",
    "df = df.merge(age_range_counts, on='Age Range', how='left')"
   ]
  },
  {
   "cell_type": "code",
   "execution_count": 17,
   "id": "50db155c",
   "metadata": {},
   "outputs": [],
   "source": [
    "\n",
    "# Create a new column for weight ranges\n",
    "df['Weight Range'] = pd.cut(df['Patient Weight'], bins=[0, 100, 200, 300, 400, 500, 600], labels=['0-100', '100-200', '200-300', '300-400', '400-500', '500-600'])\n"
   ]
  },
  {
   "cell_type": "code",
   "execution_count": 18,
   "id": "9c8f7c22",
   "metadata": {},
   "outputs": [
    {
     "name": "stdout",
     "output_type": "stream",
     "text": [
      "0-100      14792\n",
      "100-200     5647\n",
      "200-300      861\n",
      "300-400       74\n",
      "400-500       14\n",
      "500-600        1\n",
      "Name: Weight Range, dtype: int64\n"
     ]
    }
   ],
   "source": [
    "# Count number of cases for each weight range\n",
    "weight_counts = df['Weight Range'].value_counts()\n",
    "print(weight_counts)\n"
   ]
  },
  {
   "cell_type": "code",
   "execution_count": 19,
   "id": "3daf50a8",
   "metadata": {},
   "outputs": [
    {
     "name": "stdout",
     "output_type": "stream",
     "text": [
      "  Weight Range  Weight Range Count\n",
      "0        0-100               14792\n",
      "1      100-200                5647\n",
      "2      200-300                 861\n",
      "3      300-400                  74\n",
      "4      400-500                  14\n",
      "5      500-600                   1\n"
     ]
    }
   ],
   "source": [
    "# Group the DataFrame by Weight Range and count the number of rows in each group\n",
    "weight_range_counts = df.groupby('Weight Range').size().reset_index(name='Weight Range Count')\n",
    "\n",
    "print(weight_range_counts)\n"
   ]
  },
  {
   "cell_type": "code",
   "execution_count": 20,
   "id": "b0210871",
   "metadata": {},
   "outputs": [],
   "source": [
    "# Group the DataFrame by Age Range and count the number of rows in each group\n",
    "weight_range_counts = df.groupby('Weight Range').size().reset_index(name='Weight Range Count')\n",
    "\n",
    "# Join the age_range_counts DataFrame to the original DataFrame\n",
    "df = df.merge(weight_range_counts, on='Weight Range', how='left')\n",
    "\n"
   ]
  },
  {
   "cell_type": "code",
   "execution_count": 21,
   "id": "d84160cc",
   "metadata": {},
   "outputs": [],
   "source": [
    "# replace missing values with median for Patient Age\n",
    "df[['Patient Age']] = df[['Patient Age']].fillna(df[['Patient Age']].median())\n",
    "\n",
    "# calculate quartiles and IQR for Patient Age and Patient Weight\n",
    "q1_age, q3_age = np.percentile(df['Patient Age'], [25, 75])\n",
    "iqr_age = q3_age - q1_age\n",
    "\n",
    "# replace outliers with median\n",
    "df.loc[df['Patient Age'] > q3_age + 1.5*iqr_age, 'Patient Age'] = df['Patient Age'].median()\n",
    "\n"
   ]
  },
  {
   "cell_type": "code",
   "execution_count": 22,
   "id": "736a9ebb",
   "metadata": {
    "scrolled": false
   },
   "outputs": [
    {
     "name": "stdout",
     "output_type": "stream",
     "text": [
      "        Patient Age  Patient Weight\n",
      "count  92324.000000    21391.000000\n",
      "mean      50.778920       94.413211\n",
      "std       15.088449       50.444914\n",
      "min        0.000000        0.000000\n",
      "25%       48.000000       64.000000\n",
      "50%       54.000000       81.000000\n",
      "75%       57.000000      111.000000\n",
      "max       78.000000      559.000000\n"
     ]
    }
   ],
   "source": [
    "# get basic descriptive statistics for the numeric columns - After removing outliers\n",
    "numeric_cols = ['Patient Age', 'Patient Weight']\n",
    "print(df[numeric_cols].describe())"
   ]
  },
  {
   "cell_type": "code",
   "execution_count": 38,
   "id": "ea4f4292",
   "metadata": {},
   "outputs": [
    {
     "data": {
      "image/png": "[encoded data removed]",
      "text/plain": [
       "<Figure size 640x480 with 1 Axes>"
      ]
     },
     "metadata": {},
     "output_type": "display_data"
    },
    {
     "data": {
      "image/png": "[encoded data removed]",
      "text/plain": [
       "<Figure size 640x480 with 1 Axes>"
      ]
     },
     "metadata": {},
     "output_type": "display_data"
    }
   ],
   "source": [
    "#median, quartiles, and any outliers after removing outliers\n",
    "\n",
    "# Create box plot for Patient Age\n",
    "plt.boxplot(df['Patient Age'])\n",
    "plt.title('Patient Age Box Plot')\n",
    "plt.show()\n",
    "\n",
    "# Create box plot for Patient Weight\n",
    "plt.boxplot(df['Patient Weight'])\n",
    "plt.title('Patient Weight Box Plot')\n",
    "plt.show()\n"
   ]
  },
  {
   "cell_type": "code",
   "execution_count": 24,
   "id": "4fd79ed7",
   "metadata": {},
   "outputs": [],
   "source": [
    "median_age = df['Patient Age'].median()\n",
    "df['Patient Age'].fillna(median_age, inplace=True)"
   ]
  },
  {
   "cell_type": "code",
   "execution_count": 25,
   "id": "0ff6bda8",
   "metadata": {},
   "outputs": [],
   "source": [
    "median_weight = df['Patient Weight'].median()\n",
    "df['Patient Weight'].fillna(median_weight, inplace=True)"
   ]
  },
  {
   "cell_type": "code",
   "execution_count": 26,
   "id": "ed8c7315",
   "metadata": {},
   "outputs": [
    {
     "name": "stdout",
     "output_type": "stream",
     "text": [
      "Index(['Case ID', 'Suspect Product Names',\n",
      "       'Suspect Product Active Ingredients', 'Reason for Use', 'Reactions',\n",
      "       'Serious', 'Outcomes', 'Sex', 'Event Date', 'Latest FDA Received Date',\n",
      "       'Case Priority', 'Patient Age', 'Patient Weight', 'Sender',\n",
      "       'Reporter Type', 'Report Source', 'Concomitant Product Names',\n",
      "       'Latest Manufacturer Received Date', 'Initial FDA Received Date',\n",
      "       'Country where Event occurred', 'Reported to Manufacturer?',\n",
      "       'Manufacturer Control Number', 'Literature Reference',\n",
      "       'Compounded Flag', 'Age Range', 'Age Range Count', 'Weight Range',\n",
      "       'Weight Range Count'],\n",
      "      dtype='object')\n"
     ]
    }
   ],
   "source": [
    "print(df.columns)"
   ]
  },
  {
   "cell_type": "code",
   "execution_count": 27,
   "id": "cfc67fc6",
   "metadata": {},
   "outputs": [
    {
     "data": {
      "text/plain": [
       "0        0\n",
       "1        1\n",
       "2        1\n",
       "3        0\n",
       "4        1\n",
       "        ..\n",
       "92319    1\n",
       "92320    1\n",
       "92321    1\n",
       "92322    1\n",
       "92323    1\n",
       "Name: Serious, Length: 92324, dtype: category\n",
       "Categories (2, int64): [0, 1]"
      ]
     },
     "execution_count": 27,
     "metadata": {},
     "output_type": "execute_result"
    }
   ],
   "source": [
    "\n",
    "# Replace values with 1 and 0 for 'Serious' variable\n",
    "df['Serious'] = df['Serious'].replace({'Serious': 1, 'Non-Serious': 0})\n",
    "\n",
    "# Convert variable to categorical variable\n",
    "df['Serious'] = df['Serious'].astype('category')\n",
    "\n",
    "df['Serious']"
   ]
  },
  {
   "cell_type": "code",
   "execution_count": 28,
   "id": "7f32e676",
   "metadata": {},
   "outputs": [
    {
     "data": {
      "text/plain": [
       "0        0\n",
       "1        1\n",
       "2        1\n",
       "3        0\n",
       "4        1\n",
       "        ..\n",
       "92319    1\n",
       "92320    1\n",
       "92321    1\n",
       "92322    1\n",
       "92323    1\n",
       "Name: Case Priority, Length: 92324, dtype: category\n",
       "Categories (2, int64): [0, 1]"
      ]
     },
     "execution_count": 28,
     "metadata": {},
     "output_type": "execute_result"
    }
   ],
   "source": [
    "\n",
    "# Replace values with 1 and 0 for 'Case Priority' variable\n",
    "df['Case Priority'] = df['Serious'].replace({'Expedited': 1, 'Non-Expedited': 0, 'Direct': 2, '30-DAY': 3, '5-Day': 4, 'BSR': 5})\n",
    "\n",
    "# Convert variable to categorical variable\n",
    "df['Case Priority'] = df['Case Priority'].astype('category')\n",
    "\n",
    "df['Case Priority']"
   ]
  },
  {
   "cell_type": "code",
   "execution_count": 29,
   "id": "9dfcec12",
   "metadata": {
    "scrolled": false
   },
   "outputs": [
    {
     "data": {
      "text/plain": [
       "0        0\n",
       "1        1\n",
       "2        1\n",
       "3        0\n",
       "4        1\n",
       "        ..\n",
       "92319    1\n",
       "92320    1\n",
       "92321    1\n",
       "92322    1\n",
       "92323    1\n",
       "Name: Sex, Length: 92324, dtype: category\n",
       "Categories (2, int64): [0, 1]"
      ]
     },
     "execution_count": 29,
     "metadata": {},
     "output_type": "execute_result"
    }
   ],
   "source": [
    "\n",
    "# Replace values with 1 and 0 for 'Sex' variable\n",
    "df['Sex'] = df['Sex'].replace({'Male': 1, 'Female': 2, 'Direct': 2, 'Not Specified': 0})\n",
    "\n",
    "# Convert variable to categorical variable\n",
    "df['Sex'] = df['Case Priority'].astype('category')\n",
    "\n",
    "df['Sex']"
   ]
  },
  {
   "cell_type": "code",
   "execution_count": 30,
   "id": "c8145768",
   "metadata": {
    "scrolled": true
   },
   "outputs": [
    {
     "data": {
      "text/plain": [
       "0        0\n",
       "1        0\n",
       "2        0\n",
       "3        0\n",
       "4        0\n",
       "        ..\n",
       "92319    0\n",
       "92320    0\n",
       "92321    0\n",
       "92322    0\n",
       "92323    0\n",
       "Name: Reported to Manufacturer?, Length: 92324, dtype: category\n",
       "Categories (2, int64): [0, 1]"
      ]
     },
     "execution_count": 30,
     "metadata": {},
     "output_type": "execute_result"
    }
   ],
   "source": [
    "\n",
    "# Replace values with 1 and 0 for 'Reported to Manufacturer?' variable\n",
    "df['Reported to Manufacturer?'] = df['Reported to Manufacturer?'].replace({'Y': 1, 'Not Specified': 0})\n",
    "\n",
    "# Convert variable to categorical variable\n",
    "df['Reported to Manufacturer?'] = df['Reported to Manufacturer?'].astype('category')\n",
    "\n",
    "df['Reported to Manufacturer?']"
   ]
  },
  {
   "cell_type": "code",
   "execution_count": 31,
   "id": "da984b33",
   "metadata": {
    "scrolled": false
   },
   "outputs": [
    {
     "data": {
      "text/plain": [
       "0        1\n",
       "1        1\n",
       "2        1\n",
       "3        1\n",
       "4        2\n",
       "        ..\n",
       "92319    2\n",
       "92320    2\n",
       "92321    2\n",
       "92322    2\n",
       "92323    2\n",
       "Name: Reporter Type, Length: 92324, dtype: category\n",
       "Categories (3, int64): [0, 1, 2]"
      ]
     },
     "execution_count": 31,
     "metadata": {},
     "output_type": "execute_result"
    }
   ],
   "source": [
    "# Replace values with 1,2, and 0 for 'Reporter Type' variable\n",
    "df['Reporter Type'] = df['Reporter Type'].replace({'Consumer': 1, 'Healthcare Professional': 2, 'Not Specified': 0})\n",
    "\n",
    "# Convert variable to categorical variable\n",
    "df['Reporter Type'] = df['Reporter Type'].astype('category')\n",
    "\n",
    "df['Reporter Type']"
   ]
  },
  {
   "cell_type": "code",
   "execution_count": 32,
   "id": "a70a00c4",
   "metadata": {
    "scrolled": true
   },
   "outputs": [
    {
     "name": "stdout",
     "output_type": "stream",
     "text": [
      "      Suspect Product Names Reason for Use  \\\n",
      "0               A-Methapred              -   \n",
      "1               A-Methapred              -   \n",
      "2               A-Methapred              -   \n",
      "3               A-Methapred              -   \n",
      "4               A-Methapred              -   \n",
      "...                     ...            ...   \n",
      "92319                     -              -   \n",
      "92320                     -              -   \n",
      "92321                     -              -   \n",
      "92322                     -              -   \n",
      "92323                     -              -   \n",
      "\n",
      "        Suspect Product Active Ingredients  \\\n",
      "0      Methylprednisolone Sodium Succinate   \n",
      "1      Methylprednisolone Sodium Succinate   \n",
      "2      Methylprednisolone Sodium Succinate   \n",
      "3      Methylprednisolone Sodium Succinate   \n",
      "4      Methylprednisolone Sodium Succinate   \n",
      "...                                    ...   \n",
      "92319                       Nitrofurantoin   \n",
      "92320                           Gentamicin   \n",
      "92321                              Aspirin   \n",
      "92322               Gold Sodium Thiomalate   \n",
      "92323                              Aspirin   \n",
      "\n",
      "                                              Reactions Serious Sex  \\\n",
      "0          Condition Aggravated;Asthma;Drug Ineffective       0   0   \n",
      "1                Vasodilatation;Asthma;Hypersensitivity       1   1   \n",
      "2       Dysphagia;Anxiety;Anaphylactoid Reaction;Asthma       1   1   \n",
      "3                           Condition Aggravated;Asthma       0   0   \n",
      "4      Conjunctival Oedema;Asthma;Pharyngitis;Urticaria       1   1   \n",
      "...                                                 ...     ...  ..   \n",
      "92319                                            Asthma       1   1   \n",
      "92320                                            Asthma       1   1   \n",
      "92321                                            Asthma       1   1   \n",
      "92322                             Asthma;Vasodilatation       1   1   \n",
      "92323                                   Asthma;Rhinitis       1   1   \n",
      "\n",
      "       Patient Age Age Range  Age Range Count  Patient Weight Weight Range  \\\n",
      "0             39.0     30-40           6570.0            81.0          NaN   \n",
      "1              3.0      0-10           2827.0            81.0          NaN   \n",
      "2             53.0     50-60          12850.0            81.0          NaN   \n",
      "3             54.0       NaN              NaN            81.0          NaN   \n",
      "4             14.0     10-20           3212.0            81.0          NaN   \n",
      "...            ...       ...              ...             ...          ...   \n",
      "92319         40.0     30-40           6570.0            81.0          NaN   \n",
      "92320         57.0     50-60          12850.0            81.0          NaN   \n",
      "92321         58.0     50-60          12850.0            81.0          NaN   \n",
      "92322         54.0       NaN              NaN            81.0          NaN   \n",
      "92323         24.0     20-30           3877.0            81.0          NaN   \n",
      "\n",
      "       Weight Range Count Reporter Type        Report Source  \\\n",
      "0                     NaN             1  Health Professional   \n",
      "1                     NaN             1  Health Professional   \n",
      "2                     NaN             1  Health Professional   \n",
      "3                     NaN             1  Health Professional   \n",
      "4                     NaN             2  Health Professional   \n",
      "...                   ...           ...                  ...   \n",
      "92319                 NaN             2  Health Professional   \n",
      "92320                 NaN             2  Health Professional   \n",
      "92321                 NaN             2  Health Professional   \n",
      "92322                 NaN             2  Health Professional   \n",
      "92323                 NaN             2  Health Professional   \n",
      "\n",
      "                               Concomitant Product Names  \\\n",
      "0                                     Methylprednisolone   \n",
      "1      Midazolam Hydrochloride;Acetaminophen;Albutero...   \n",
      "2                            Vanceril;Theo-Dur;Albuterol   \n",
      "3                                                      -   \n",
      "4                                              Captopril   \n",
      "...                                                  ...   \n",
      "92319                                                  -   \n",
      "92320                                                  -   \n",
      "92321                                                  -   \n",
      "92322                                                  -   \n",
      "92323                                                  -   \n",
      "\n",
      "      Country where Event occurred        Outcomes Reported to Manufacturer?  \n",
      "0                    Not Specified     Non-Serious                         0  \n",
      "1                    Not Specified  Other Outcomes                         0  \n",
      "2                    Not Specified  Other Outcomes                         0  \n",
      "3                    Not Specified     Non-Serious                         0  \n",
      "4                    Not Specified  Other Outcomes                         0  \n",
      "...                            ...             ...                       ...  \n",
      "92319                Not Specified  Other Outcomes                         0  \n",
      "92320                Not Specified  Other Outcomes                         0  \n",
      "92321                Not Specified  Other Outcomes                         0  \n",
      "92322                Not Specified  Other Outcomes                         0  \n",
      "92323                Not Specified  Other Outcomes                         0  \n",
      "\n",
      "[92324 rows x 18 columns]\n"
     ]
    }
   ],
   "source": [
    "cleaned_data = df[['Suspect Product Names', 'Reason for Use', 'Suspect Product Active Ingredients', 'Reactions', 'Serious', 'Sex',\n",
    "                   'Patient Age','Age Range', 'Age Range Count', 'Patient Weight','Weight Range', 'Weight Range Count','Reporter Type','Report Source', 'Concomitant Product Names','Country where Event occurred', 'Outcomes','Reported to Manufacturer?',]]\n",
    "print(cleaned_data)\n"
   ]
  },
  {
   "cell_type": "code",
   "execution_count": 33,
   "id": "bed980b1",
   "metadata": {},
   "outputs": [],
   "source": [
    "#cleaned_data.to_csv('cleaned_data.csv', index=False)"
   ]
  },
  {
   "cell_type": "code",
   "execution_count": 34,
   "id": "90a61c17",
   "metadata": {},
   "outputs": [
    {
     "name": "stdout",
     "output_type": "stream",
     "text": [
      "        Patient Age  Patient Weight\n",
      "count  92324.000000    92324.000000\n",
      "mean      50.778920       84.107773\n",
      "std       15.088449       24.931861\n",
      "min        0.000000        0.000000\n",
      "25%       48.000000       81.000000\n",
      "50%       54.000000       81.000000\n",
      "75%       57.000000       81.000000\n",
      "max       78.000000      559.000000\n",
      "Not Specified                                                       68484\n",
      "Health Professional                                                 13816\n",
      "Consumer                                                             4319\n",
      "Health Professional ,Foreign                                         1347\n",
      "Health Professional ,Study                                            516\n",
      "                                                                    ...  \n",
      "Company Representative ,Health Professional ,Distributor,Foreign        1\n",
      "Company Representative ,Study,Foreign                                   1\n",
      "User Facility ,Health Professional ,Distributor                         1\n",
      "User Facility ,Health Professional ,Literature                          1\n",
      "Consumer,Literature                                                     1\n",
      "Name: Report Source, Length: 94, dtype: int64\n",
      "Omalizumab                                                                                                                                                                                           4446\n",
      "Fluticasone Propionate\\Salmeterol Xinafoate                                                                                                                                                          3466\n",
      "Dupilumab                                                                                                                                                                                            3438\n",
      "Albuterol Sulfate                                                                                                                                                                                    2873\n",
      "Budesonide\\Formoterol Fumarate Dihydrate                                                                                                                                                             1664\n",
      "                                                                                                                                                                                                     ... \n",
      "Metformin Hydrochloride;Mometasone Furoate;Omalizumab;Pantoprazole;Glycopyrrolate;Rosuvastatin                                                                                                          1\n",
      "Metformin Hydrochloride;Rosuvastatin;Pantoprazole;Glycopyrrolate;Omalizumab;Mometasone Furoate                                                                                                          1\n",
      "Metformin Hydrochloride;Doxepin Hydrochloride;Fluticasone Propionate\\Salmeterol Xinafoate;Quetiapine;Theophylline Anhydrous;Levothyroxine Sodium;Albuterol Sulfate;Pravastatin;Tiotropium Bromide       1\n",
      "Metformin Hydrochloride;Pantoprazole;Rosuvastatin;Glycopyrrolate;Omalizumab;Mometasone Furoate                                                                                                          1\n",
      "Unspecified Ingredient;Aspirin                                                                                                                                                                          1\n",
      "Name: Suspect Product Active Ingredients, Length: 22865, dtype: int64\n",
      "-                                                                                                                                                                                                                                            18318\n",
      "Asthma                                                                                                                                                                                                                                       16960\n",
      "Product Used For Unknown Indication                                                                                                                                                                                                           9727\n",
      "Asthma;Product Used For Unknown Indication                                                                                                                                                                                                    8752\n",
      "Rheumatoid Arthritis                                                                                                                                                                                                                          1947\n",
      "                                                                                                                                                                                                                                             ...  \n",
      "Cataplexy;Narcolepsy;Product Used For Unknown Indication;Raynaud's Phenomenon                                                                                                                                                                    1\n",
      "Anxiety;Arterial Disorder;Arthralgia;Asthma;Chest Pain;Depression;Diabetes Mellitus;Fibromyalgia;Fluid Retention;Gastrooesophageal Reflux Disease;Hypersensitivity;Hypertension;Migraine;Muscle Spasms;Neuropathy Peripheral;Panic Attack        1\n",
      "Bronchitis;Cough;Pneumonia;Product Used For Unknown Indication                                                                                                                                                                                   1\n",
      "Depression;Hypersensitivity;Smoking Cessation Therapy;Tobacco Abuse                                                                                                                                                                              1\n",
      "Tooth Disorder                                                                                                                                                                                                                                   1\n",
      "Name: Reason for Use, Length: 10960, dtype: int64\n",
      "US               36473\n",
      "Not Specified    22717\n",
      "CA               19590\n",
      "GB                2664\n",
      "JP                1821\n",
      "                 ...  \n",
      "CM                   1\n",
      "AM                   1\n",
      "NP                   1\n",
      "BO                   1\n",
      "GE                   1\n",
      "Name: Country where Event occurred, Length: 111, dtype: int64\n",
      "Other Outcomes                                                                                         31802\n",
      "Non-Serious                                                                                            20191\n",
      "Hospitalized                                                                                           18361\n",
      "Hospitalized;Other Outcomes                                                                             6205\n",
      "Other Outcomes;Hospitalized                                                                             5965\n",
      "                                                                                                       ...  \n",
      "Died;Hospitalized;Disabled;Other Outcomes;Congenital Anomaly;Life Threatening;Required Intervention        1\n",
      "Required Intervention;Hospitalized;Life Threatening;Disabled                                               1\n",
      "Disabled;Required Intervention;Hospitalized;Life Threatening                                               1\n",
      "Congenital Anomaly;Other Outcomes;Died;Disabled;Hospitalized                                               1\n",
      "Life Threatening;Other Outcomes;Hospitalized;Required Intervention                                         1\n",
      "Name: Outcomes, Length: 408, dtype: int64\n",
      "-                                                                                                   15982\n",
      "Xolair                                                                                               5068\n",
      "Dupixent                                                                                             3302\n",
      "Symbicort                                                                                            2090\n",
      "Humira                                                                                               1592\n",
      "                                                                                                    ...  \n",
      "Metformin;Synthroid;Singulair;Montelukast;Pulmicort Turbuhaler;Xolair;Invokana                          1\n",
      "Metformin;Synthroid;Spiriva;Elavil;Wellbutrin Xl;Symbicort;Glumetza;Abilify;Pulmicort Turbuhaler        1\n",
      "Metformin;Synthroid;Wellbutrin;Symbicort;Spiriva;Abilify;Pulmicort Turbuhaler                           1\n",
      "Metformin;Tradjenta                                                                                     1\n",
      "Nucala;Symbicort;Atrovent                                                                               1\n",
      "Name: Suspect Product Names, Length: 13828, dtype: int64\n",
      "Asthma                                                                                                             11507\n",
      "Drug Ineffective;Asthma                                                                                              556\n",
      "Asthma;Drug Ineffective                                                                                              526\n",
      "Hospitalisation;Asthma                                                                                               524\n",
      "Asthma;Hospitalisation                                                                                               519\n",
      "                                                                                                                   ...  \n",
      "Fall;Vomiting;Cyanosis;Hypotension;Asthma;Bronchospasm;Cardiac Failure;Cardiac Arrest;Bradycardia;Shock;Malaise        1\n",
      "Laryngeal Oedema;Asthma;Cyanosis;Dyspnoea                                                                              1\n",
      "Asthma;Dermatitis;Rhinitis                                                                                             1\n",
      "Urticaria;Asthma;Nausea                                                                                                1\n",
      "Nausea;Asthma;Urticaria                                                                                                1\n",
      "Name: Reactions, Length: 62502, dtype: int64\n",
      "1    72134\n",
      "0    20190\n",
      "Name: Serious, dtype: int64\n",
      "-                                                                                                                                                                     49597\n",
      "Prednisone                                                                                                                                                              811\n",
      "Nucala                                                                                                                                                                  708\n",
      "Albuterol                                                                                                                                                               631\n",
      "Unspecified Ingredient                                                                                                                                                  581\n",
      "                                                                                                                                                                      ...  \n",
      "Fluticasone;Pantoprazole;Vilanterol Trifenatate;Tiotropium;Budesonide;Oxazepam;Perindopril                                                                                1\n",
      "Hydroxyzine Hydrochloride;Candesartan;Oxazepam;Montelukast;Pantoprazole;Perindopril                                                                                       1\n",
      "Oxazepam;Tiotropium Bromide;Vilanterol Trifenatate;Fluticasone Propionate;Budesonide;Perindopril;Pantoprazole                                                             1\n",
      "Prednisone;Tiotropium;Montelukast;Budesonide;Omeprazole;Vitamin D3;Fluticasone Furoate\\Vilanterol Trifenatate;Zileuton;Fluticasone Propionate\\Salmeterol Xinafoate        1\n",
      "Tetracaine;Innovar                                                                                                                                                        1\n",
      "Name: Concomitant Product Names, Length: 31802, dtype: int64\n",
      "1    47467\n",
      "2    41687\n",
      "0     3170\n",
      "Name: Reporter Type, dtype: int64\n",
      "1    72134\n",
      "0    20190\n",
      "Name: Sex, dtype: int64\n",
      "0    92022\n",
      "1      302\n",
      "Name: Reported to Manufacturer?, dtype: int64\n"
     ]
    }
   ],
   "source": [
    "\n",
    "# select the columns of interest\n",
    "cols_of_interest = ['Suspect Product Names', 'Reason for Use', 'Suspect Product Active Ingredients',\n",
    "                    'Reactions', 'Serious', 'Sex', 'Patient Age', 'Patient Weight',\n",
    "                    'Reporter Type', 'Report Source', 'Concomitant Product Names',\n",
    "                    'Country where Event occurred', 'Outcomes', 'Reported to Manufacturer?']\n",
    "\n",
    "# get basic descriptive statistics for the numeric columns\n",
    "numeric_cols = ['Patient Age', 'Patient Weight']\n",
    "print(cleaned_data[numeric_cols].describe())\n",
    "\n",
    "\n",
    "# get basic descriptive statistics for the categorical columns\n",
    "categorical_cols = list(set(cols_of_interest) - set(numeric_cols))\n",
    "for col in categorical_cols:\n",
    "    print(cleaned_data[col].value_counts())\n"
   ]
  },
  {
   "cell_type": "code",
   "execution_count": 35,
   "id": "2865e531",
   "metadata": {},
   "outputs": [
    {
     "name": "stdout",
     "output_type": "stream",
     "text": [
      "      Suspect Product Names Reason for Use  \\\n",
      "0               A-Methapred              -   \n",
      "1               A-Methapred              -   \n",
      "2               A-Methapred              -   \n",
      "3               A-Methapred              -   \n",
      "4               A-Methapred              -   \n",
      "...                     ...            ...   \n",
      "92319                     -              -   \n",
      "92320                     -              -   \n",
      "92321                     -              -   \n",
      "92322                     -              -   \n",
      "92323                     -              -   \n",
      "\n",
      "        Suspect Product Active Ingredients  \\\n",
      "0      Methylprednisolone Sodium Succinate   \n",
      "1      Methylprednisolone Sodium Succinate   \n",
      "2      Methylprednisolone Sodium Succinate   \n",
      "3      Methylprednisolone Sodium Succinate   \n",
      "4      Methylprednisolone Sodium Succinate   \n",
      "...                                    ...   \n",
      "92319                       Nitrofurantoin   \n",
      "92320                           Gentamicin   \n",
      "92321                              Aspirin   \n",
      "92322               Gold Sodium Thiomalate   \n",
      "92323                              Aspirin   \n",
      "\n",
      "                                              Reactions Serious Sex  \\\n",
      "0          Condition Aggravated;Asthma;Drug Ineffective       0   0   \n",
      "1                Vasodilatation;Asthma;Hypersensitivity       1   1   \n",
      "2       Dysphagia;Anxiety;Anaphylactoid Reaction;Asthma       1   1   \n",
      "3                           Condition Aggravated;Asthma       0   0   \n",
      "4      Conjunctival Oedema;Asthma;Pharyngitis;Urticaria       1   1   \n",
      "...                                                 ...     ...  ..   \n",
      "92319                                            Asthma       1   1   \n",
      "92320                                            Asthma       1   1   \n",
      "92321                                            Asthma       1   1   \n",
      "92322                             Asthma;Vasodilatation       1   1   \n",
      "92323                                   Asthma;Rhinitis       1   1   \n",
      "\n",
      "       Patient Age Age Range  Age Range Count  Patient Weight Weight Range  \\\n",
      "0             39.0     30-40           6570.0            81.0          NaN   \n",
      "1              3.0      0-10           2827.0            81.0          NaN   \n",
      "2             53.0     50-60          12850.0            81.0          NaN   \n",
      "3             54.0       NaN              NaN            81.0          NaN   \n",
      "4             14.0     10-20           3212.0            81.0          NaN   \n",
      "...            ...       ...              ...             ...          ...   \n",
      "92319         40.0     30-40           6570.0            81.0          NaN   \n",
      "92320         57.0     50-60          12850.0            81.0          NaN   \n",
      "92321         58.0     50-60          12850.0            81.0          NaN   \n",
      "92322         54.0       NaN              NaN            81.0          NaN   \n",
      "92323         24.0     20-30           3877.0            81.0          NaN   \n",
      "\n",
      "       Weight Range Count Reporter Type        Report Source  \\\n",
      "0                     NaN             1  Health Professional   \n",
      "1                     NaN             1  Health Professional   \n",
      "2                     NaN             1  Health Professional   \n",
      "3                     NaN             1  Health Professional   \n",
      "4                     NaN             2  Health Professional   \n",
      "...                   ...           ...                  ...   \n",
      "92319                 NaN             2  Health Professional   \n",
      "92320                 NaN             2  Health Professional   \n",
      "92321                 NaN             2  Health Professional   \n",
      "92322                 NaN             2  Health Professional   \n",
      "92323                 NaN             2  Health Professional   \n",
      "\n",
      "                               Concomitant Product Names  \\\n",
      "0                                     Methylprednisolone   \n",
      "1      Midazolam Hydrochloride;Acetaminophen;Albutero...   \n",
      "2                            Vanceril;Theo-Dur;Albuterol   \n",
      "3                                                      -   \n",
      "4                                              Captopril   \n",
      "...                                                  ...   \n",
      "92319                                                  -   \n",
      "92320                                                  -   \n",
      "92321                                                  -   \n",
      "92322                                                  -   \n",
      "92323                                                  -   \n",
      "\n",
      "      Country where Event occurred        Outcomes Reported to Manufacturer?  \n",
      "0                    Not Specified     Non-Serious                         0  \n",
      "1                    Not Specified  Other Outcomes                         0  \n",
      "2                    Not Specified  Other Outcomes                         0  \n",
      "3                    Not Specified     Non-Serious                         0  \n",
      "4                    Not Specified  Other Outcomes                         0  \n",
      "...                            ...             ...                       ...  \n",
      "92319                Not Specified  Other Outcomes                         0  \n",
      "92320                Not Specified  Other Outcomes                         0  \n",
      "92321                Not Specified  Other Outcomes                         0  \n",
      "92322                Not Specified  Other Outcomes                         0  \n",
      "92323                Not Specified  Other Outcomes                         0  \n",
      "\n",
      "[92324 rows x 18 columns]\n"
     ]
    }
   ],
   "source": [
    "print(cleaned_data)"
   ]
  },
  {
   "cell_type": "code",
   "execution_count": 36,
   "id": "23b850e4",
   "metadata": {},
   "outputs": [
    {
     "data": {
      "text/html": [
       "<div>\n",
       "<style scoped>\n",
       "    .dataframe tbody tr th:only-of-type {\n",
       "        vertical-align: middle;\n",
       "    }\n",
       "\n",
       "    .dataframe tbody tr th {\n",
       "        vertical-align: top;\n",
       "    }\n",
       "\n",
       "    .dataframe thead th {\n",
       "        text-align: right;\n",
       "    }\n",
       "</style>\n",
       "<table border=\"1\" class=\"dataframe\">\n",
       "  <thead>\n",
       "    <tr style=\"text-align: right;\">\n",
       "      <th></th>\n",
       "      <th>Patient Age</th>\n",
       "      <th>Age Range Count</th>\n",
       "      <th>Patient Weight</th>\n",
       "      <th>Weight Range Count</th>\n",
       "    </tr>\n",
       "  </thead>\n",
       "  <tbody>\n",
       "    <tr>\n",
       "      <th>count</th>\n",
       "      <td>92324.000000</td>\n",
       "      <td>59944.000000</td>\n",
       "      <td>92324.000000</td>\n",
       "      <td>21389.000000</td>\n",
       "    </tr>\n",
       "    <tr>\n",
       "      <th>mean</th>\n",
       "      <td>50.778920</td>\n",
       "      <td>8777.553850</td>\n",
       "      <td>84.107773</td>\n",
       "      <td>11755.522325</td>\n",
       "    </tr>\n",
       "    <tr>\n",
       "      <th>std</th>\n",
       "      <td>15.088449</td>\n",
       "      <td>3629.098374</td>\n",
       "      <td>24.931861</td>\n",
       "      <td>4644.941138</td>\n",
       "    </tr>\n",
       "    <tr>\n",
       "      <th>min</th>\n",
       "      <td>0.000000</td>\n",
       "      <td>174.000000</td>\n",
       "      <td>0.000000</td>\n",
       "      <td>1.000000</td>\n",
       "    </tr>\n",
       "    <tr>\n",
       "      <th>25%</th>\n",
       "      <td>48.000000</td>\n",
       "      <td>6570.000000</td>\n",
       "      <td>81.000000</td>\n",
       "      <td>5647.000000</td>\n",
       "    </tr>\n",
       "    <tr>\n",
       "      <th>50%</th>\n",
       "      <td>54.000000</td>\n",
       "      <td>9580.000000</td>\n",
       "      <td>81.000000</td>\n",
       "      <td>14792.000000</td>\n",
       "    </tr>\n",
       "    <tr>\n",
       "      <th>75%</th>\n",
       "      <td>57.000000</td>\n",
       "      <td>11876.000000</td>\n",
       "      <td>81.000000</td>\n",
       "      <td>14792.000000</td>\n",
       "    </tr>\n",
       "    <tr>\n",
       "      <th>max</th>\n",
       "      <td>78.000000</td>\n",
       "      <td>12850.000000</td>\n",
       "      <td>559.000000</td>\n",
       "      <td>14792.000000</td>\n",
       "    </tr>\n",
       "  </tbody>\n",
       "</table>\n",
       "</div>"
      ],
      "text/plain": [
       "        Patient Age  Age Range Count  Patient Weight  Weight Range Count\n",
       "count  92324.000000     59944.000000    92324.000000        21389.000000\n",
       "mean      50.778920      8777.553850       84.107773        11755.522325\n",
       "std       15.088449      3629.098374       24.931861         4644.941138\n",
       "min        0.000000       174.000000        0.000000            1.000000\n",
       "25%       48.000000      6570.000000       81.000000         5647.000000\n",
       "50%       54.000000      9580.000000       81.000000        14792.000000\n",
       "75%       57.000000     11876.000000       81.000000        14792.000000\n",
       "max       78.000000     12850.000000      559.000000        14792.000000"
      ]
     },
     "execution_count": 36,
     "metadata": {},
     "output_type": "execute_result"
    }
   ],
   "source": [
    "cleaned_data.describe()\n"
   ]
  },
  {
   "cell_type": "code",
   "execution_count": null,
   "id": "96609cff",
   "metadata": {},
   "outputs": [],
   "source": []
  }
 ],
 "metadata": {
  "kernelspec": {
   "display_name": "Python 3 (ipykernel)",
   "language": "python",
   "name": "python3"
  },
  "language_info": {
   "codemirror_mode": {
    "name": "ipython",
    "version": 3
   },
   "file_extension": ".py",
   "mimetype": "text/x-python",
   "name": "python",
   "nbconvert_exporter": "python",
   "pygments_lexer": "ipython3",
   "version": "3.9.12"
  }
 },
 "nbformat": 4,
 "nbformat_minor": 5
}
