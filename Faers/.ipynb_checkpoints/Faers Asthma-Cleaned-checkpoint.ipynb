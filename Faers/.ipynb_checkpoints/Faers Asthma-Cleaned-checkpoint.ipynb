{
 "cells": [
  {
   "cell_type": "code",
   "execution_count": 1,
   "id": "27237a23",
   "metadata": {},
   "outputs": [],
   "source": [
    "import os\n",
    "import pandas as pd\n",
    "import numpy as np\n",
    "\n",
    "\n",
    "# Get current working directory\n",
    "current_dir = os.getcwd()\n",
    "\n",
    "# Navigate to data folder\n",
    "data_dir = os.path.join(current_dir, \"data\")\n",
    "\n",
    "# Read CSV file\n",
    "df = pd.read_csv(os.path.join(data_dir, \"faers_asthma.csv\"), sep=\",\")\n"
   ]
  },
  {
   "cell_type": "code",
   "execution_count": 2,
   "id": "2a3daa22",
   "metadata": {
    "scrolled": false
   },
   "outputs": [
    {
     "name": "stdout",
     "output_type": "stream",
     "text": [
      "<bound method NDFrame.head of        Case ID Suspect Product Names   Suspect Product Active Ingredients  \\\n",
      "0      4974950           A-Methapred  Methylprednisolone Sodium Succinate   \n",
      "1      4974946           A-Methapred  Methylprednisolone Sodium Succinate   \n",
      "2      4652544           A-Methapred  Methylprednisolone Sodium Succinate   \n",
      "3      4656790           A-Methapred  Methylprednisolone Sodium Succinate   \n",
      "4      4610124           A-Methapred  Methylprednisolone Sodium Succinate   \n",
      "...        ...                   ...                                  ...   \n",
      "92319  4230505                     -                       Nitrofurantoin   \n",
      "92320  4236734                     -                           Gentamicin   \n",
      "92321  4235917                     -                              Aspirin   \n",
      "92322  4234961                     -               Gold Sodium Thiomalate   \n",
      "92323  4227900                     -                              Aspirin   \n",
      "\n",
      "      Reason for Use                                         Reactions  \\\n",
      "0                  -      Condition Aggravated;Asthma;Drug Ineffective   \n",
      "1                  -            Vasodilatation;Asthma;Hypersensitivity   \n",
      "2                  -   Dysphagia;Anxiety;Anaphylactoid Reaction;Asthma   \n",
      "3                  -                       Condition Aggravated;Asthma   \n",
      "4                  -  Conjunctival Oedema;Asthma;Pharyngitis;Urticaria   \n",
      "...              ...                                               ...   \n",
      "92319              -                                            Asthma   \n",
      "92320              -                                            Asthma   \n",
      "92321              -                                            Asthma   \n",
      "92322              -                             Asthma;Vasodilatation   \n",
      "92323              -                                   Asthma;Rhinitis   \n",
      "\n",
      "           Serious        Outcomes     Sex   Event Date  \\\n",
      "0      Non-Serious     Non-Serious  Female  29-SEP-1992   \n",
      "1          Serious  Other Outcomes    Male  01-NOV-1992   \n",
      "2          Serious  Other Outcomes  Female  28-APR-1988   \n",
      "3      Non-Serious     Non-Serious    Male  01-FEB-1989   \n",
      "4          Serious  Other Outcomes    Male  08-AUG-1988   \n",
      "...            ...             ...     ...          ...   \n",
      "92319      Serious  Other Outcomes  Female  28-OCT-1969   \n",
      "92320      Serious  Other Outcomes  Female  30-DEC-1969   \n",
      "92321      Serious  Other Outcomes    Male  04-NOV-1969   \n",
      "92322      Serious  Other Outcomes    Male  02-DEC-1969   \n",
      "92323      Serious  Other Outcomes    Male  01-JAN-1966   \n",
      "\n",
      "      Latest FDA Received Date  ...            Reporter Type  \\\n",
      "0                  29-MAR-1993  ...                 Consumer   \n",
      "1                  29-MAR-1993  ...                 Consumer   \n",
      "2                  10-MAY-1989  ...                 Consumer   \n",
      "3                  05-MAY-1989  ...                 Consumer   \n",
      "4                  15-AUG-1988  ...  Healthcare Professional   \n",
      "...                        ...  ...                      ...   \n",
      "92319              01-FEB-1970  ...  Healthcare Professional   \n",
      "92320              01-JAN-1970  ...  Healthcare Professional   \n",
      "92321              01-JAN-1970  ...  Healthcare Professional   \n",
      "92322              01-DEC-1969  ...  Healthcare Professional   \n",
      "92323              01-DEC-1969  ...  Healthcare Professional   \n",
      "\n",
      "             Report Source                          Concomitant Product Names  \\\n",
      "0      Health Professional                                 Methylprednisolone   \n",
      "1      Health Professional  Midazolam Hydrochloride;Acetaminophen;Albutero...   \n",
      "2      Health Professional                        Vanceril;Theo-Dur;Albuterol   \n",
      "3      Health Professional                                                  -   \n",
      "4      Health Professional                                          Captopril   \n",
      "...                    ...                                                ...   \n",
      "92319  Health Professional                                                  -   \n",
      "92320  Health Professional                                                  -   \n",
      "92321  Health Professional                                                  -   \n",
      "92322  Health Professional                                                  -   \n",
      "92323  Health Professional                                                  -   \n",
      "\n",
      "      Latest Manufacturer Received Date Initial FDA Received Date  \\\n",
      "0                           29-JAN-1993               29-MAR-1993   \n",
      "1                                     -               29-MAR-1993   \n",
      "2                                     -               10-MAY-1989   \n",
      "3                                     -               05-MAY-1989   \n",
      "4                                     -               15-AUG-1988   \n",
      "...                                 ...                       ...   \n",
      "92319                                 -               01-FEB-1970   \n",
      "92320                                 -               01-JAN-1970   \n",
      "92321                                 -               01-JAN-1970   \n",
      "92322                                 -               01-DEC-1969   \n",
      "92323                                 -               01-DEC-1969   \n",
      "\n",
      "      Country where Event occurred Reported to Manufacturer?  \\\n",
      "0                    Not Specified             Not Specified   \n",
      "1                    Not Specified             Not Specified   \n",
      "2                    Not Specified             Not Specified   \n",
      "3                    Not Specified             Not Specified   \n",
      "4                    Not Specified             Not Specified   \n",
      "...                            ...                       ...   \n",
      "92319                Not Specified             Not Specified   \n",
      "92320                Not Specified             Not Specified   \n",
      "92321                Not Specified             Not Specified   \n",
      "92322                Not Specified             Not Specified   \n",
      "92323                Not Specified             Not Specified   \n",
      "\n",
      "      Manufacturer Control Number Literature Reference Compounded Flag  \n",
      "0                      H2009572AO                    -               -  \n",
      "1                      H2009373AO                    -               -  \n",
      "2                        H36208A0                    -               -  \n",
      "3                        H37322A0                    -               -  \n",
      "4                               -                    -               -  \n",
      "...                           ...                  ...             ...  \n",
      "92319                           -                    -               -  \n",
      "92320                           -                    -               -  \n",
      "92321                           -                    -               -  \n",
      "92322                           -                    -               -  \n",
      "92323                           -                    -               -  \n",
      "\n",
      "[92324 rows x 24 columns]>\n"
     ]
    }
   ],
   "source": [
    "print(df.head)"
   ]
  },
  {
   "cell_type": "code",
   "execution_count": 3,
   "id": "18ae5507",
   "metadata": {
    "scrolled": true
   },
   "outputs": [],
   "source": [
    "#Create Patient Age column to be only numeric and replace missings with the mean\n",
    "df['Patient Age'] = df['Patient Age'].str.extract('(\\d+)').astype(float)\n",
    "mean_age = df['Patient Age'].mean()\n",
    "df['Patient Age'].fillna(mean_age, inplace=True)\n"
   ]
  },
  {
   "cell_type": "code",
   "execution_count": 4,
   "id": "0b0819b8",
   "metadata": {},
   "outputs": [],
   "source": [
    "#Create Patient Weight column to be only numeric and replace missings with the meandf['Patient Weight'] = df['Patient Weight'].str.extract('(\\d+)').astype(float)\n",
    "df['Patient Weight'] = df['Patient Weight'].str.extract('(\\d+)').astype(float)\n",
    "mean_weight = df['Patient Weight'].mean()\n",
    "df['Patient Weight'].fillna(mean_weight, inplace=True)"
   ]
  },
  {
   "cell_type": "code",
   "execution_count": 5,
   "id": "14a03da4",
   "metadata": {},
   "outputs": [
    {
     "name": "stdout",
     "output_type": "stream",
     "text": [
      "Index(['Case ID', 'Suspect Product Names',\n",
      "       'Suspect Product Active Ingredients', 'Reason for Use', 'Reactions',\n",
      "       'Serious', 'Outcomes', 'Sex', 'Event Date', 'Latest FDA Received Date',\n",
      "       'Case Priority', 'Patient Age', 'Patient Weight', 'Sender',\n",
      "       'Reporter Type', 'Report Source', 'Concomitant Product Names',\n",
      "       'Latest Manufacturer Received Date', 'Initial FDA Received Date',\n",
      "       'Country where Event occurred', 'Reported to Manufacturer?',\n",
      "       'Manufacturer Control Number', 'Literature Reference',\n",
      "       'Compounded Flag'],\n",
      "      dtype='object')\n"
     ]
    }
   ],
   "source": [
    "print(df.columns)"
   ]
  },
  {
   "cell_type": "code",
   "execution_count": 6,
   "id": "cfc67fc6",
   "metadata": {},
   "outputs": [
    {
     "data": {
      "text/plain": [
       "0        0\n",
       "1        1\n",
       "2        1\n",
       "3        0\n",
       "4        1\n",
       "        ..\n",
       "92319    1\n",
       "92320    1\n",
       "92321    1\n",
       "92322    1\n",
       "92323    1\n",
       "Name: Serious, Length: 92324, dtype: category\n",
       "Categories (2, int64): [0, 1]"
      ]
     },
     "execution_count": 6,
     "metadata": {},
     "output_type": "execute_result"
    }
   ],
   "source": [
    "\n",
    "# Replace values with 1 and 0 for 'Serious' variable\n",
    "df['Serious'] = df['Serious'].replace({'Serious': 1, 'Non-Serious': 0})\n",
    "\n",
    "# Convert variable to categorical variable\n",
    "df['Serious'] = df['Serious'].astype('category')\n",
    "\n",
    "df['Serious']"
   ]
  },
  {
   "cell_type": "code",
   "execution_count": 7,
   "id": "7f32e676",
   "metadata": {},
   "outputs": [
    {
     "data": {
      "text/plain": [
       "0        0\n",
       "1        1\n",
       "2        1\n",
       "3        0\n",
       "4        1\n",
       "        ..\n",
       "92319    1\n",
       "92320    1\n",
       "92321    1\n",
       "92322    1\n",
       "92323    1\n",
       "Name: Case Priority, Length: 92324, dtype: category\n",
       "Categories (2, int64): [0, 1]"
      ]
     },
     "execution_count": 7,
     "metadata": {},
     "output_type": "execute_result"
    }
   ],
   "source": [
    "\n",
    "# Replace values with 1 and 0 for 'Case Priority' variable\n",
    "df['Case Priority'] = df['Serious'].replace({'Expedited': 1, 'Non-Expedited': 0, 'Direct': 2, '30-DAY': 3, '5-Day': 4, 'BSR': 5})\n",
    "\n",
    "# Convert variable to categorical variable\n",
    "df['Case Priority'] = df['Case Priority'].astype('category')\n",
    "\n",
    "df['Case Priority']"
   ]
  },
  {
   "cell_type": "code",
   "execution_count": 8,
   "id": "9dfcec12",
   "metadata": {
    "scrolled": false
   },
   "outputs": [
    {
     "data": {
      "text/plain": [
       "0        0\n",
       "1        1\n",
       "2        1\n",
       "3        0\n",
       "4        1\n",
       "        ..\n",
       "92319    1\n",
       "92320    1\n",
       "92321    1\n",
       "92322    1\n",
       "92323    1\n",
       "Name: Sex, Length: 92324, dtype: category\n",
       "Categories (2, int64): [0, 1]"
      ]
     },
     "execution_count": 8,
     "metadata": {},
     "output_type": "execute_result"
    }
   ],
   "source": [
    "\n",
    "# Replace values with 1 and 0 for 'Sex' variable\n",
    "df['Sex'] = df['Sex'].replace({'Male': 1, 'Female': 2, 'Direct': 2, 'Not Specified': 0})\n",
    "\n",
    "# Convert variable to categorical variable\n",
    "df['Sex'] = df['Case Priority'].astype('category')\n",
    "\n",
    "df['Sex']"
   ]
  },
  {
   "cell_type": "code",
   "execution_count": 9,
   "id": "20a1069a",
   "metadata": {
    "scrolled": true
   },
   "outputs": [
    {
     "data": {
      "text/plain": [
       "0        0\n",
       "1        0\n",
       "2        0\n",
       "3        0\n",
       "4        0\n",
       "        ..\n",
       "92319    0\n",
       "92320    0\n",
       "92321    0\n",
       "92322    0\n",
       "92323    0\n",
       "Name: Reported to Manufacturer?, Length: 92324, dtype: category\n",
       "Categories (2, int64): [0, 1]"
      ]
     },
     "execution_count": 9,
     "metadata": {},
     "output_type": "execute_result"
    }
   ],
   "source": [
    "\n",
    "# Replace values with 1 and 0 for 'Reported to Manufacturer?' variable\n",
    "df['Reported to Manufacturer?'] = df['Reported to Manufacturer?'].replace({'Y': 1, 'Not Specified': 0})\n",
    "\n",
    "# Convert variable to categorical variable\n",
    "df['Reported to Manufacturer?'] = df['Reported to Manufacturer?'].astype('category')\n",
    "\n",
    "df['Reported to Manufacturer?']"
   ]
  },
  {
   "cell_type": "code",
   "execution_count": 10,
   "id": "b48f0271",
   "metadata": {
    "scrolled": false
   },
   "outputs": [
    {
     "data": {
      "text/plain": [
       "0        1\n",
       "1        1\n",
       "2        1\n",
       "3        1\n",
       "4        2\n",
       "        ..\n",
       "92319    2\n",
       "92320    2\n",
       "92321    2\n",
       "92322    2\n",
       "92323    2\n",
       "Name: Reporter Type, Length: 92324, dtype: category\n",
       "Categories (3, int64): [0, 1, 2]"
      ]
     },
     "execution_count": 10,
     "metadata": {},
     "output_type": "execute_result"
    }
   ],
   "source": [
    "# Replace values with 1,2, and 0 for 'Reporter Type' variable\n",
    "df['Reporter Type'] = df['Reporter Type'].replace({'Consumer': 1, 'Healthcare Professional': 2, 'Not Specified': 0})\n",
    "\n",
    "# Convert variable to categorical variable\n",
    "df['Reporter Type'] = df['Reporter Type'].astype('category')\n",
    "\n",
    "df['Reporter Type']"
   ]
  },
  {
   "cell_type": "code",
   "execution_count": 11,
   "id": "a70a00c4",
   "metadata": {
    "scrolled": true
   },
   "outputs": [
    {
     "name": "stdout",
     "output_type": "stream",
     "text": [
      "      Suspect Product Names Reason for Use  \\\n",
      "0               A-Methapred              -   \n",
      "1               A-Methapred              -   \n",
      "2               A-Methapred              -   \n",
      "3               A-Methapred              -   \n",
      "4               A-Methapred              -   \n",
      "...                     ...            ...   \n",
      "92319                     -              -   \n",
      "92320                     -              -   \n",
      "92321                     -              -   \n",
      "92322                     -              -   \n",
      "92323                     -              -   \n",
      "\n",
      "        Suspect Product Active Ingredients  \\\n",
      "0      Methylprednisolone Sodium Succinate   \n",
      "1      Methylprednisolone Sodium Succinate   \n",
      "2      Methylprednisolone Sodium Succinate   \n",
      "3      Methylprednisolone Sodium Succinate   \n",
      "4      Methylprednisolone Sodium Succinate   \n",
      "...                                    ...   \n",
      "92319                       Nitrofurantoin   \n",
      "92320                           Gentamicin   \n",
      "92321                              Aspirin   \n",
      "92322               Gold Sodium Thiomalate   \n",
      "92323                              Aspirin   \n",
      "\n",
      "                                              Reactions Serious Sex  \\\n",
      "0          Condition Aggravated;Asthma;Drug Ineffective       0   0   \n",
      "1                Vasodilatation;Asthma;Hypersensitivity       1   1   \n",
      "2       Dysphagia;Anxiety;Anaphylactoid Reaction;Asthma       1   1   \n",
      "3                           Condition Aggravated;Asthma       0   0   \n",
      "4      Conjunctival Oedema;Asthma;Pharyngitis;Urticaria       1   1   \n",
      "...                                                 ...     ...  ..   \n",
      "92319                                            Asthma       1   1   \n",
      "92320                                            Asthma       1   1   \n",
      "92321                                            Asthma       1   1   \n",
      "92322                             Asthma;Vasodilatation       1   1   \n",
      "92323                                   Asthma;Rhinitis       1   1   \n",
      "\n",
      "       Patient Age  Patient Weight Reporter Type        Report Source  \\\n",
      "0        39.000000       94.413211             1  Health Professional   \n",
      "1         3.000000       94.413211             1  Health Professional   \n",
      "2        53.000000       94.413211             1  Health Professional   \n",
      "3       271.105004       94.413211             1  Health Professional   \n",
      "4        14.000000       94.413211             2  Health Professional   \n",
      "...            ...             ...           ...                  ...   \n",
      "92319    40.000000       94.413211             2  Health Professional   \n",
      "92320    57.000000       94.413211             2  Health Professional   \n",
      "92321    58.000000       94.413211             2  Health Professional   \n",
      "92322   271.105004       94.413211             2  Health Professional   \n",
      "92323    24.000000       94.413211             2  Health Professional   \n",
      "\n",
      "                               Concomitant Product Names  \\\n",
      "0                                     Methylprednisolone   \n",
      "1      Midazolam Hydrochloride;Acetaminophen;Albutero...   \n",
      "2                            Vanceril;Theo-Dur;Albuterol   \n",
      "3                                                      -   \n",
      "4                                              Captopril   \n",
      "...                                                  ...   \n",
      "92319                                                  -   \n",
      "92320                                                  -   \n",
      "92321                                                  -   \n",
      "92322                                                  -   \n",
      "92323                                                  -   \n",
      "\n",
      "      Country where Event occurred        Outcomes Reported to Manufacturer?  \n",
      "0                    Not Specified     Non-Serious                         0  \n",
      "1                    Not Specified  Other Outcomes                         0  \n",
      "2                    Not Specified  Other Outcomes                         0  \n",
      "3                    Not Specified     Non-Serious                         0  \n",
      "4                    Not Specified  Other Outcomes                         0  \n",
      "...                            ...             ...                       ...  \n",
      "92319                Not Specified  Other Outcomes                         0  \n",
      "92320                Not Specified  Other Outcomes                         0  \n",
      "92321                Not Specified  Other Outcomes                         0  \n",
      "92322                Not Specified  Other Outcomes                         0  \n",
      "92323                Not Specified  Other Outcomes                         0  \n",
      "\n",
      "[92324 rows x 14 columns]\n"
     ]
    }
   ],
   "source": [
    "cleaned_data = df[['Suspect Product Names', 'Reason for Use', 'Suspect Product Active Ingredients', 'Reactions', 'Serious', 'Sex',\n",
    "                   'Patient Age', 'Patient Weight','Reporter Type','Report Source', 'Concomitant Product Names','Country where Event occurred', 'Outcomes','Reported to Manufacturer?',]]\n",
    "print(cleaned_data)\n"
   ]
  },
  {
   "cell_type": "code",
   "execution_count": 12,
   "id": "fa58364a",
   "metadata": {},
   "outputs": [],
   "source": [
    "cleaned_data.to_csv('cleaned_data.csv', index=False)"
   ]
  },
  {
   "cell_type": "code",
   "execution_count": null,
   "id": "6f7bb6d4",
   "metadata": {},
   "outputs": [],
   "source": []
  }
 ],
 "metadata": {
  "kernelspec": {
   "display_name": "Python 3 (ipykernel)",
   "language": "python",
   "name": "python3"
  },
  "language_info": {
   "codemirror_mode": {
    "name": "ipython",
    "version": 3
   },
   "file_extension": ".py",
   "mimetype": "text/x-python",
   "name": "python",
   "nbconvert_exporter": "python",
   "pygments_lexer": "ipython3",
   "version": "3.9.12"
  }
 },
 "nbformat": 4,
 "nbformat_minor": 5
}
