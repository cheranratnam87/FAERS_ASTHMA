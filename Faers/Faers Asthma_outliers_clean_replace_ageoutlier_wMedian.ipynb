{
 "cells": [
  {
   "cell_type": "code",
   "execution_count": 1,
   "id": "27237a23",
   "metadata": {},
   "outputs": [],
   "source": [
    "import os\n",
    "import pandas as pd\n",
    "import numpy as np\n",
    "\n",
    "\n",
    "# Get current working directory\n",
    "current_dir = os.getcwd()\n",
    "\n",
    "# Navigate to data folder\n",
    "data_dir = os.path.join(current_dir, \"data\")\n",
    "\n",
    "# Read CSV file\n",
    "df = pd.read_csv(os.path.join(data_dir, \"faers_asthma.csv\"), sep=\",\")\n"
   ]
  },
  {
   "cell_type": "code",
   "execution_count": 2,
   "id": "2a3daa22",
   "metadata": {
    "scrolled": false
   },
   "outputs": [
    {
     "name": "stdout",
     "output_type": "stream",
     "text": [
      "<bound method NDFrame.head of        Case ID Suspect Product Names   Suspect Product Active Ingredients  \\\n",
      "0      4974950           A-Methapred  Methylprednisolone Sodium Succinate   \n",
      "1      4974946           A-Methapred  Methylprednisolone Sodium Succinate   \n",
      "2      4652544           A-Methapred  Methylprednisolone Sodium Succinate   \n",
      "3      4656790           A-Methapred  Methylprednisolone Sodium Succinate   \n",
      "4      4610124           A-Methapred  Methylprednisolone Sodium Succinate   \n",
      "...        ...                   ...                                  ...   \n",
      "92319  4230505                     -                       Nitrofurantoin   \n",
      "92320  4236734                     -                           Gentamicin   \n",
      "92321  4235917                     -                              Aspirin   \n",
      "92322  4234961                     -               Gold Sodium Thiomalate   \n",
      "92323  4227900                     -                              Aspirin   \n",
      "\n",
      "      Reason for Use                                         Reactions  \\\n",
      "0                  -      Condition Aggravated;Asthma;Drug Ineffective   \n",
      "1                  -            Vasodilatation;Asthma;Hypersensitivity   \n",
      "2                  -   Dysphagia;Anxiety;Anaphylactoid Reaction;Asthma   \n",
      "3                  -                       Condition Aggravated;Asthma   \n",
      "4                  -  Conjunctival Oedema;Asthma;Pharyngitis;Urticaria   \n",
      "...              ...                                               ...   \n",
      "92319              -                                            Asthma   \n",
      "92320              -                                            Asthma   \n",
      "92321              -                                            Asthma   \n",
      "92322              -                             Asthma;Vasodilatation   \n",
      "92323              -                                   Asthma;Rhinitis   \n",
      "\n",
      "           Serious        Outcomes     Sex   Event Date  \\\n",
      "0      Non-Serious     Non-Serious  Female  29-SEP-1992   \n",
      "1          Serious  Other Outcomes    Male  01-NOV-1992   \n",
      "2          Serious  Other Outcomes  Female  28-APR-1988   \n",
      "3      Non-Serious     Non-Serious    Male  01-FEB-1989   \n",
      "4          Serious  Other Outcomes    Male  08-AUG-1988   \n",
      "...            ...             ...     ...          ...   \n",
      "92319      Serious  Other Outcomes  Female  28-OCT-1969   \n",
      "92320      Serious  Other Outcomes  Female  30-DEC-1969   \n",
      "92321      Serious  Other Outcomes    Male  04-NOV-1969   \n",
      "92322      Serious  Other Outcomes    Male  02-DEC-1969   \n",
      "92323      Serious  Other Outcomes    Male  01-JAN-1966   \n",
      "\n",
      "      Latest FDA Received Date  ...            Reporter Type  \\\n",
      "0                  29-MAR-1993  ...                 Consumer   \n",
      "1                  29-MAR-1993  ...                 Consumer   \n",
      "2                  10-MAY-1989  ...                 Consumer   \n",
      "3                  05-MAY-1989  ...                 Consumer   \n",
      "4                  15-AUG-1988  ...  Healthcare Professional   \n",
      "...                        ...  ...                      ...   \n",
      "92319              01-FEB-1970  ...  Healthcare Professional   \n",
      "92320              01-JAN-1970  ...  Healthcare Professional   \n",
      "92321              01-JAN-1970  ...  Healthcare Professional   \n",
      "92322              01-DEC-1969  ...  Healthcare Professional   \n",
      "92323              01-DEC-1969  ...  Healthcare Professional   \n",
      "\n",
      "             Report Source                          Concomitant Product Names  \\\n",
      "0      Health Professional                                 Methylprednisolone   \n",
      "1      Health Professional  Midazolam Hydrochloride;Acetaminophen;Albutero...   \n",
      "2      Health Professional                        Vanceril;Theo-Dur;Albuterol   \n",
      "3      Health Professional                                                  -   \n",
      "4      Health Professional                                          Captopril   \n",
      "...                    ...                                                ...   \n",
      "92319  Health Professional                                                  -   \n",
      "92320  Health Professional                                                  -   \n",
      "92321  Health Professional                                                  -   \n",
      "92322  Health Professional                                                  -   \n",
      "92323  Health Professional                                                  -   \n",
      "\n",
      "      Latest Manufacturer Received Date Initial FDA Received Date  \\\n",
      "0                           29-JAN-1993               29-MAR-1993   \n",
      "1                                     -               29-MAR-1993   \n",
      "2                                     -               10-MAY-1989   \n",
      "3                                     -               05-MAY-1989   \n",
      "4                                     -               15-AUG-1988   \n",
      "...                                 ...                       ...   \n",
      "92319                                 -               01-FEB-1970   \n",
      "92320                                 -               01-JAN-1970   \n",
      "92321                                 -               01-JAN-1970   \n",
      "92322                                 -               01-DEC-1969   \n",
      "92323                                 -               01-DEC-1969   \n",
      "\n",
      "      Country where Event occurred Reported to Manufacturer?  \\\n",
      "0                    Not Specified             Not Specified   \n",
      "1                    Not Specified             Not Specified   \n",
      "2                    Not Specified             Not Specified   \n",
      "3                    Not Specified             Not Specified   \n",
      "4                    Not Specified             Not Specified   \n",
      "...                            ...                       ...   \n",
      "92319                Not Specified             Not Specified   \n",
      "92320                Not Specified             Not Specified   \n",
      "92321                Not Specified             Not Specified   \n",
      "92322                Not Specified             Not Specified   \n",
      "92323                Not Specified             Not Specified   \n",
      "\n",
      "      Manufacturer Control Number Literature Reference Compounded Flag  \n",
      "0                      H2009572AO                    -               -  \n",
      "1                      H2009373AO                    -               -  \n",
      "2                        H36208A0                    -               -  \n",
      "3                        H37322A0                    -               -  \n",
      "4                               -                    -               -  \n",
      "...                           ...                  ...             ...  \n",
      "92319                           -                    -               -  \n",
      "92320                           -                    -               -  \n",
      "92321                           -                    -               -  \n",
      "92322                           -                    -               -  \n",
      "92323                           -                    -               -  \n",
      "\n",
      "[92324 rows x 24 columns]>\n"
     ]
    }
   ],
   "source": [
    "print(df.head)"
   ]
  },
  {
   "cell_type": "code",
   "execution_count": 3,
   "id": "aaa7b75a",
   "metadata": {},
   "outputs": [
    {
     "name": "stdout",
     "output_type": "stream",
     "text": [
      "          Patient Age Patient Weight\n",
      "count           92324          92324\n",
      "unique           1124           2801\n",
      "top     Not Specified  Not Specified\n",
      "freq            31174          70933\n",
      "Not Specified                                                       68484\n",
      "Health Professional                                                 13816\n",
      "Consumer                                                             4319\n",
      "Health Professional ,Foreign                                         1347\n",
      "Health Professional ,Study                                            516\n",
      "                                                                    ...  \n",
      "Company Representative ,Health Professional ,Distributor,Foreign        1\n",
      "Company Representative ,Study,Foreign                                   1\n",
      "User Facility ,Health Professional ,Distributor                         1\n",
      "User Facility ,Health Professional ,Literature                          1\n",
      "Consumer,Literature                                                     1\n",
      "Name: Report Source, Length: 94, dtype: int64\n",
      "Consumer                   47467\n",
      "Healthcare Professional    41687\n",
      "Not Specified               3170\n",
      "Name: Reporter Type, dtype: int64\n",
      "-                                                                                                                                                                     49597\n",
      "Prednisone                                                                                                                                                              811\n",
      "Nucala                                                                                                                                                                  708\n",
      "Albuterol                                                                                                                                                               631\n",
      "Unspecified Ingredient                                                                                                                                                  581\n",
      "                                                                                                                                                                      ...  \n",
      "Fluticasone;Pantoprazole;Vilanterol Trifenatate;Tiotropium;Budesonide;Oxazepam;Perindopril                                                                                1\n",
      "Hydroxyzine Hydrochloride;Candesartan;Oxazepam;Montelukast;Pantoprazole;Perindopril                                                                                       1\n",
      "Oxazepam;Tiotropium Bromide;Vilanterol Trifenatate;Fluticasone Propionate;Budesonide;Perindopril;Pantoprazole                                                             1\n",
      "Prednisone;Tiotropium;Montelukast;Budesonide;Omeprazole;Vitamin D3;Fluticasone Furoate\\Vilanterol Trifenatate;Zileuton;Fluticasone Propionate\\Salmeterol Xinafoate        1\n",
      "Tetracaine;Innovar                                                                                                                                                        1\n",
      "Name: Concomitant Product Names, Length: 31802, dtype: int64\n",
      "Omalizumab                                                                                                                                                                                           4446\n",
      "Fluticasone Propionate\\Salmeterol Xinafoate                                                                                                                                                          3466\n",
      "Dupilumab                                                                                                                                                                                            3438\n",
      "Albuterol Sulfate                                                                                                                                                                                    2873\n",
      "Budesonide\\Formoterol Fumarate Dihydrate                                                                                                                                                             1664\n",
      "                                                                                                                                                                                                     ... \n",
      "Metformin Hydrochloride;Mometasone Furoate;Omalizumab;Pantoprazole;Glycopyrrolate;Rosuvastatin                                                                                                          1\n",
      "Metformin Hydrochloride;Rosuvastatin;Pantoprazole;Glycopyrrolate;Omalizumab;Mometasone Furoate                                                                                                          1\n",
      "Metformin Hydrochloride;Doxepin Hydrochloride;Fluticasone Propionate\\Salmeterol Xinafoate;Quetiapine;Theophylline Anhydrous;Levothyroxine Sodium;Albuterol Sulfate;Pravastatin;Tiotropium Bromide       1\n",
      "Metformin Hydrochloride;Pantoprazole;Rosuvastatin;Glycopyrrolate;Omalizumab;Mometasone Furoate                                                                                                          1\n",
      "Unspecified Ingredient;Aspirin                                                                                                                                                                          1\n",
      "Name: Suspect Product Active Ingredients, Length: 22865, dtype: int64\n",
      "US               36473\n",
      "Not Specified    22717\n",
      "CA               19590\n",
      "GB                2664\n",
      "JP                1821\n",
      "                 ...  \n",
      "CM                   1\n",
      "AM                   1\n",
      "NP                   1\n",
      "BO                   1\n",
      "GE                   1\n",
      "Name: Country where Event occurred, Length: 111, dtype: int64\n",
      "Serious        72134\n",
      "Non-Serious    20190\n",
      "Name: Serious, dtype: int64\n",
      "Not Specified    92022\n",
      "Y                  302\n",
      "Name: Reported to Manufacturer?, dtype: int64\n",
      "-                                                                                                   15982\n",
      "Xolair                                                                                               5068\n",
      "Dupixent                                                                                             3302\n",
      "Symbicort                                                                                            2090\n",
      "Humira                                                                                               1592\n",
      "                                                                                                    ...  \n",
      "Metformin;Synthroid;Singulair;Montelukast;Pulmicort Turbuhaler;Xolair;Invokana                          1\n",
      "Metformin;Synthroid;Spiriva;Elavil;Wellbutrin Xl;Symbicort;Glumetza;Abilify;Pulmicort Turbuhaler        1\n",
      "Metformin;Synthroid;Wellbutrin;Symbicort;Spiriva;Abilify;Pulmicort Turbuhaler                           1\n",
      "Metformin;Tradjenta                                                                                     1\n",
      "Nucala;Symbicort;Atrovent                                                                               1\n",
      "Name: Suspect Product Names, Length: 13828, dtype: int64\n",
      "Asthma                                                                                                             11507\n",
      "Drug Ineffective;Asthma                                                                                              556\n",
      "Asthma;Drug Ineffective                                                                                              526\n",
      "Hospitalisation;Asthma                                                                                               524\n",
      "Asthma;Hospitalisation                                                                                               519\n",
      "                                                                                                                   ...  \n",
      "Fall;Vomiting;Cyanosis;Hypotension;Asthma;Bronchospasm;Cardiac Failure;Cardiac Arrest;Bradycardia;Shock;Malaise        1\n",
      "Laryngeal Oedema;Asthma;Cyanosis;Dyspnoea                                                                              1\n",
      "Asthma;Dermatitis;Rhinitis                                                                                             1\n",
      "Urticaria;Asthma;Nausea                                                                                                1\n",
      "Nausea;Asthma;Urticaria                                                                                                1\n",
      "Name: Reactions, Length: 62502, dtype: int64\n",
      "Other Outcomes                                                                                         31802\n",
      "Non-Serious                                                                                            20191\n",
      "Hospitalized                                                                                           18361\n",
      "Hospitalized;Other Outcomes                                                                             6205\n",
      "Other Outcomes;Hospitalized                                                                             5965\n",
      "                                                                                                       ...  \n",
      "Died;Hospitalized;Disabled;Other Outcomes;Congenital Anomaly;Life Threatening;Required Intervention        1\n",
      "Required Intervention;Hospitalized;Life Threatening;Disabled                                               1\n",
      "Disabled;Required Intervention;Hospitalized;Life Threatening                                               1\n",
      "Congenital Anomaly;Other Outcomes;Died;Disabled;Hospitalized                                               1\n",
      "Life Threatening;Other Outcomes;Hospitalized;Required Intervention                                         1\n",
      "Name: Outcomes, Length: 408, dtype: int64\n",
      "Female           58453\n",
      "Male             25992\n",
      "Not Specified     7879\n",
      "Name: Sex, dtype: int64\n"
     ]
    },
    {
     "name": "stdout",
     "output_type": "stream",
     "text": [
      "-                                                                                                                                                                                                                                            18318\n",
      "Asthma                                                                                                                                                                                                                                       16960\n",
      "Product Used For Unknown Indication                                                                                                                                                                                                           9727\n",
      "Asthma;Product Used For Unknown Indication                                                                                                                                                                                                    8752\n",
      "Rheumatoid Arthritis                                                                                                                                                                                                                          1947\n",
      "                                                                                                                                                                                                                                             ...  \n",
      "Cataplexy;Narcolepsy;Product Used For Unknown Indication;Raynaud's Phenomenon                                                                                                                                                                    1\n",
      "Anxiety;Arterial Disorder;Arthralgia;Asthma;Chest Pain;Depression;Diabetes Mellitus;Fibromyalgia;Fluid Retention;Gastrooesophageal Reflux Disease;Hypersensitivity;Hypertension;Migraine;Muscle Spasms;Neuropathy Peripheral;Panic Attack        1\n",
      "Bronchitis;Cough;Pneumonia;Product Used For Unknown Indication                                                                                                                                                                                   1\n",
      "Depression;Hypersensitivity;Smoking Cessation Therapy;Tobacco Abuse                                                                                                                                                                              1\n",
      "Tooth Disorder                                                                                                                                                                                                                                   1\n",
      "Name: Reason for Use, Length: 10960, dtype: int64\n"
     ]
    }
   ],
   "source": [
    "# Before making any changes to the variables - what does the distribution look like?\n",
    "# select the columns of interest\n",
    "cols_of_interest = ['Suspect Product Names', 'Reason for Use', 'Suspect Product Active Ingredients',\n",
    "                    'Reactions', 'Serious', 'Sex', 'Patient Age', 'Patient Weight',\n",
    "                    'Reporter Type', 'Report Source', 'Concomitant Product Names',\n",
    "                    'Country where Event occurred', 'Outcomes', 'Reported to Manufacturer?']\n",
    "\n",
    "# get basic descriptive statistics for the numeric columns\n",
    "numeric_cols = ['Patient Age', 'Patient Weight']\n",
    "print(df[numeric_cols].describe())\n",
    "\n",
    "\n",
    "# get basic descriptive statistics for the categorical columns\n",
    "categorical_cols = list(set(cols_of_interest) - set(numeric_cols))\n",
    "for col in categorical_cols:\n",
    "    print(df[col].value_counts())"
   ]
  },
  {
   "cell_type": "code",
   "execution_count": 4,
   "id": "18ae5507",
   "metadata": {
    "scrolled": true
   },
   "outputs": [],
   "source": [
    "#Create Patient Age column to be only numeric\n",
    "df['Patient Age'] = df['Patient Age'].str.extract('(\\d+)').astype(float)\n",
    "\n"
   ]
  },
  {
   "cell_type": "code",
   "execution_count": 5,
   "id": "2d2e312e",
   "metadata": {},
   "outputs": [],
   "source": [
    "#Create Patient Weight column to be only numeric \n",
    "df['Patient Weight'] = df['Patient Weight'].str.extract('(\\d+)').astype(float)\n"
   ]
  },
  {
   "cell_type": "code",
   "execution_count": 6,
   "id": "de163ce2",
   "metadata": {
    "scrolled": true
   },
   "outputs": [
    {
     "data": {
      "image/png": "[encoded data removed]",
      "text/plain": [
       "<Figure size 640x480 with 1 Axes>"
      ]
     },
     "metadata": {},
     "output_type": "display_data"
    }
   ],
   "source": [
    "#Visualizing patient age\n",
    "import matplotlib.pyplot as plt\n",
    "\n",
    "# create a scatter plot of patient age\n",
    "plt.scatter(df['Patient Age'], range(len(df)))\n",
    "plt.xlabel('Patient Age')\n",
    "plt.ylabel('Index')\n",
    "plt.title('Scatter Plot of Patient Age')\n",
    "plt.show()\n"
   ]
  },
  {
   "cell_type": "code",
   "execution_count": 7,
   "id": "78b09d8c",
   "metadata": {
    "scrolled": true
   },
   "outputs": [
    {
     "data": {
      "image/png": "[encoded data removed]",
      "text/plain": [
       "<Figure size 640x480 with 1 Axes>"
      ]
     },
     "metadata": {},
     "output_type": "display_data"
    }
   ],
   "source": [
    "#visualizing patient weight\n",
    "\n",
    "import matplotlib.pyplot as plt\n",
    "\n",
    "# create a scatter plot of patient age\n",
    "plt.scatter(df['Patient Weight'], range(len(df)))\n",
    "plt.xlabel('Patient Age')\n",
    "plt.ylabel('Index') \n",
    "plt.title('Scatter Plot of Patient Weight')\n",
    "plt.show()\n"
   ]
  },
  {
   "cell_type": "code",
   "execution_count": 8,
   "id": "75820da7",
   "metadata": {
    "scrolled": true
   },
   "outputs": [
    {
     "name": "stdout",
     "output_type": "stream",
     "text": [
      "        Patient Age  Patient Weight\n",
      "count  61150.000000    21391.000000\n",
      "mean     271.105004       94.413211\n",
      "std     2212.847300       50.444914\n",
      "min        0.000000        0.000000\n",
      "25%       39.000000       64.000000\n",
      "50%       54.000000       81.000000\n",
      "75%       66.000000      111.000000\n",
      "max    35248.000000      559.000000\n"
     ]
    }
   ],
   "source": [
    "# get basic descriptive statistics for the numeric columns - After making them nominal variables\n",
    "numeric_cols = ['Patient Age', 'Patient Weight']\n",
    "print(df[numeric_cols].describe())\n"
   ]
  },
  {
   "cell_type": "code",
   "execution_count": 26,
   "id": "ef3c9686",
   "metadata": {},
   "outputs": [
    {
     "data": {
      "image/png": "[encoded data removed]",
      "text/plain": [
       "<Figure size 640x480 with 1 Axes>"
      ]
     },
     "metadata": {},
     "output_type": "display_data"
    },
    {
     "data": {
      "image/png": "[encoded data removed]",
      "text/plain": [
       "<Figure size 640x480 with 1 Axes>"
      ]
     },
     "metadata": {},
     "output_type": "display_data"
    }
   ],
   "source": [
    "##median, quartiles, and any outliers before removing outliers - There is an issue with large amounts of patients' ages being incorrect\n",
    "import matplotlib.pyplot as plt\n",
    "\n",
    "# Create box plot for Patient Age\n",
    "plt.boxplot(df['Patient Age'])\n",
    "plt.title('Patient Age Box Plot')\n",
    "plt.ylim(bottom=0\n",
    "         , top=3525)\n",
    "plt.show()\n",
    "\n",
    "# Create box plot for Patient Weight\n",
    "plt.boxplot(df['Patient Weight'])\n",
    "plt.title('Patient Weight Box Plot')\n",
    "plt.ylim(bottom=0, top=559)\n",
    "plt.show()\n"
   ]
  },
  {
   "cell_type": "code",
   "execution_count": 27,
   "id": "d84160cc",
   "metadata": {},
   "outputs": [],
   "source": [
    "# calculate the IQR for Patient Age and Patient Weight\n",
    "q1_age = df['Patient Age'].quantile(0.25)\n",
    "q3_age = df['Patient Age'].quantile(0.75)\n",
    "iqr_age = q3_age - q1_age\n",
    "\n",
    "q1_weight = df['Patient Weight'].quantile(0.25)\n",
    "q3_weight = df['Patient Weight'].quantile(0.75)\n",
    "iqr_weight = q3_weight - q1_weight\n",
    "\n",
    "# remove any data points outside of 1.5 times the IQR\n",
    "df = df[(df['Patient Age'] >= q1_age - 1.5*iqr_age) & (df['Patient Age'] <= q3_age + 1.5*iqr_age)]\n",
    "df = df[(df['Patient Weight'] >= q1_weight - 1.5*iqr_weight) & (df['Patient Weight'] <= q3_weight + 1.5*iqr_weight)]\n",
    "\n"
   ]
  },
  {
   "cell_type": "code",
   "execution_count": 28,
   "id": "736a9ebb",
   "metadata": {
    "scrolled": true
   },
   "outputs": [
    {
     "name": "stdout",
     "output_type": "stream",
     "text": [
      "        Patient Age  Patient Weight\n",
      "count  15214.000000    15214.000000\n",
      "mean      50.194821       83.323255\n",
      "std       20.528911       33.059840\n",
      "min        0.000000        0.000000\n",
      "25%       38.000000       62.000000\n",
      "50%       54.000000       79.000000\n",
      "75%       65.000000      101.000000\n",
      "max      101.000000      169.000000\n"
     ]
    }
   ],
   "source": [
    "# get basic descriptive statistics for the numeric columns - After removing outliers\n",
    "numeric_cols = ['Patient Age', 'Patient Weight']\n",
    "print(df[numeric_cols].describe())"
   ]
  },
  {
   "cell_type": "code",
   "execution_count": 29,
   "id": "ea4f4292",
   "metadata": {},
   "outputs": [
    {
     "data": {
      "image/png": "[encoded data removed]",
      "text/plain": [
       "<Figure size 640x480 with 1 Axes>"
      ]
     },
     "metadata": {},
     "output_type": "display_data"
    },
    {
     "data": {
      "image/png": "[encoded data removed]",
      "text/plain": [
       "<Figure size 640x480 with 1 Axes>"
      ]
     },
     "metadata": {},
     "output_type": "display_data"
    }
   ],
   "source": [
    "#median, quartiles, and any outliers after removing outliers\n",
    "import matplotlib.pyplot as plt\n",
    "\n",
    "# Create box plot for Patient Age\n",
    "plt.boxplot(df['Patient Age'])\n",
    "plt.title('Patient Age Box Plot')\n",
    "plt.show()\n",
    "\n",
    "# Create box plot for Patient Weight\n",
    "plt.boxplot(df['Patient Weight'])\n",
    "plt.title('Patient Weight Box Plot')\n",
    "plt.show()\n"
   ]
  },
  {
   "cell_type": "code",
   "execution_count": 30,
   "id": "4fd79ed7",
   "metadata": {},
   "outputs": [],
   "source": [
    "median_age = df['Patient Age'].median()\n",
    "df['Patient Age'].fillna(median_age, inplace=True)"
   ]
  },
  {
   "cell_type": "code",
   "execution_count": 31,
   "id": "0ff6bda8",
   "metadata": {},
   "outputs": [],
   "source": [
    "median_weight = df['Patient Weight'].median()\n",
    "df['Patient Weight'].fillna(median_weight, inplace=True)"
   ]
  },
  {
   "cell_type": "code",
   "execution_count": 32,
   "id": "ed8c7315",
   "metadata": {},
   "outputs": [
    {
     "name": "stdout",
     "output_type": "stream",
     "text": [
      "Index(['Case ID', 'Suspect Product Names',\n",
      "       'Suspect Product Active Ingredients', 'Reason for Use', 'Reactions',\n",
      "       'Serious', 'Outcomes', 'Sex', 'Event Date', 'Latest FDA Received Date',\n",
      "       'Case Priority', 'Patient Age', 'Patient Weight', 'Sender',\n",
      "       'Reporter Type', 'Report Source', 'Concomitant Product Names',\n",
      "       'Latest Manufacturer Received Date', 'Initial FDA Received Date',\n",
      "       'Country where Event occurred', 'Reported to Manufacturer?',\n",
      "       'Manufacturer Control Number', 'Literature Reference',\n",
      "       'Compounded Flag'],\n",
      "      dtype='object')\n"
     ]
    }
   ],
   "source": [
    "print(df.columns)"
   ]
  },
  {
   "cell_type": "code",
   "execution_count": 33,
   "id": "cfc67fc6",
   "metadata": {},
   "outputs": [
    {
     "data": {
      "text/plain": [
       "6        1\n",
       "31       1\n",
       "33       1\n",
       "35       1\n",
       "36       1\n",
       "        ..\n",
       "90959    1\n",
       "90968    1\n",
       "90970    1\n",
       "90974    1\n",
       "91045    1\n",
       "Name: Serious, Length: 15214, dtype: category\n",
       "Categories (2, int64): [0, 1]"
      ]
     },
     "execution_count": 33,
     "metadata": {},
     "output_type": "execute_result"
    }
   ],
   "source": [
    "\n",
    "# Replace values with 1 and 0 for 'Serious' variable\n",
    "df['Serious'] = df['Serious'].replace({'Serious': 1, 'Non-Serious': 0})\n",
    "\n",
    "# Convert variable to categorical variable\n",
    "df['Serious'] = df['Serious'].astype('category')\n",
    "\n",
    "df['Serious']"
   ]
  },
  {
   "cell_type": "code",
   "execution_count": 34,
   "id": "7f32e676",
   "metadata": {},
   "outputs": [
    {
     "data": {
      "text/plain": [
       "6        1\n",
       "31       1\n",
       "33       1\n",
       "35       1\n",
       "36       1\n",
       "        ..\n",
       "90959    1\n",
       "90968    1\n",
       "90970    1\n",
       "90974    1\n",
       "91045    1\n",
       "Name: Case Priority, Length: 15214, dtype: category\n",
       "Categories (2, int64): [0, 1]"
      ]
     },
     "execution_count": 34,
     "metadata": {},
     "output_type": "execute_result"
    }
   ],
   "source": [
    "\n",
    "# Replace values with 1 and 0 for 'Case Priority' variable\n",
    "df['Case Priority'] = df['Serious'].replace({'Expedited': 1, 'Non-Expedited': 0, 'Direct': 2, '30-DAY': 3, '5-Day': 4, 'BSR': 5})\n",
    "\n",
    "# Convert variable to categorical variable\n",
    "df['Case Priority'] = df['Case Priority'].astype('category')\n",
    "\n",
    "df['Case Priority']"
   ]
  },
  {
   "cell_type": "code",
   "execution_count": 35,
   "id": "9dfcec12",
   "metadata": {
    "scrolled": false
   },
   "outputs": [
    {
     "data": {
      "text/plain": [
       "6        1\n",
       "31       1\n",
       "33       1\n",
       "35       1\n",
       "36       1\n",
       "        ..\n",
       "90959    1\n",
       "90968    1\n",
       "90970    1\n",
       "90974    1\n",
       "91045    1\n",
       "Name: Sex, Length: 15214, dtype: category\n",
       "Categories (2, int64): [0, 1]"
      ]
     },
     "execution_count": 35,
     "metadata": {},
     "output_type": "execute_result"
    }
   ],
   "source": [
    "\n",
    "# Replace values with 1 and 0 for 'Sex' variable\n",
    "df['Sex'] = df['Sex'].replace({'Male': 1, 'Female': 2, 'Direct': 2, 'Not Specified': 0})\n",
    "\n",
    "# Convert variable to categorical variable\n",
    "df['Sex'] = df['Case Priority'].astype('category')\n",
    "\n",
    "df['Sex']"
   ]
  },
  {
   "cell_type": "code",
   "execution_count": 36,
   "id": "c8145768",
   "metadata": {
    "scrolled": true
   },
   "outputs": [
    {
     "data": {
      "text/plain": [
       "6        0\n",
       "31       0\n",
       "33       0\n",
       "35       0\n",
       "36       0\n",
       "        ..\n",
       "90959    0\n",
       "90968    0\n",
       "90970    0\n",
       "90974    0\n",
       "91045    0\n",
       "Name: Reported to Manufacturer?, Length: 15214, dtype: category\n",
       "Categories (2, int64): [0, 1]"
      ]
     },
     "execution_count": 36,
     "metadata": {},
     "output_type": "execute_result"
    }
   ],
   "source": [
    "\n",
    "# Replace values with 1 and 0 for 'Reported to Manufacturer?' variable\n",
    "df['Reported to Manufacturer?'] = df['Reported to Manufacturer?'].replace({'Y': 1, 'Not Specified': 0})\n",
    "\n",
    "# Convert variable to categorical variable\n",
    "df['Reported to Manufacturer?'] = df['Reported to Manufacturer?'].astype('category')\n",
    "\n",
    "df['Reported to Manufacturer?']"
   ]
  },
  {
   "cell_type": "code",
   "execution_count": 37,
   "id": "da984b33",
   "metadata": {
    "scrolled": false
   },
   "outputs": [
    {
     "data": {
      "text/plain": [
       "6        0\n",
       "31       2\n",
       "33       1\n",
       "35       2\n",
       "36       1\n",
       "        ..\n",
       "90959    2\n",
       "90968    2\n",
       "90970    2\n",
       "90974    1\n",
       "91045    2\n",
       "Name: Reporter Type, Length: 15214, dtype: category\n",
       "Categories (3, int64): [0, 1, 2]"
      ]
     },
     "execution_count": 37,
     "metadata": {},
     "output_type": "execute_result"
    }
   ],
   "source": [
    "# Replace values with 1,2, and 0 for 'Reporter Type' variable\n",
    "df['Reporter Type'] = df['Reporter Type'].replace({'Consumer': 1, 'Healthcare Professional': 2, 'Not Specified': 0})\n",
    "\n",
    "# Convert variable to categorical variable\n",
    "df['Reporter Type'] = df['Reporter Type'].astype('category')\n",
    "\n",
    "df['Reporter Type']"
   ]
  },
  {
   "cell_type": "code",
   "execution_count": 38,
   "id": "a70a00c4",
   "metadata": {
    "scrolled": true
   },
   "outputs": [
    {
     "name": "stdout",
     "output_type": "stream",
     "text": [
      "      Suspect Product Names  \\\n",
      "6                    Aarane   \n",
      "31               Abbokinase   \n",
      "33               Abbokinase   \n",
      "35               Abbokinase   \n",
      "36               Abbokinase   \n",
      "...                     ...   \n",
      "90959                     -   \n",
      "90968                     -   \n",
      "90970                     -   \n",
      "90974                     -   \n",
      "91045                     -   \n",
      "\n",
      "                                          Reason for Use  \\\n",
      "6      Asthma;Exposure To Allergen;Prophylaxis;Rhinit...   \n",
      "31                                                     -   \n",
      "33                                                     -   \n",
      "35                                                     -   \n",
      "36                                                     -   \n",
      "...                                                  ...   \n",
      "90959                                                  -   \n",
      "90968                                                  -   \n",
      "90970                                                  -   \n",
      "90974                                                  -   \n",
      "91045                                                  -   \n",
      "\n",
      "                      Suspect Product Active Ingredients  \\\n",
      "6      Cromolyn Sodium;Unspecified Ingredient;Allerge...   \n",
      "31                                             Urokinase   \n",
      "33                                             Urokinase   \n",
      "35                                             Urokinase   \n",
      "36                                             Urokinase   \n",
      "...                                                  ...   \n",
      "90959                                 Diatrizoate Sodium   \n",
      "90968                                           Morphine   \n",
      "90970                                         Gentamicin   \n",
      "90974                                  Protamine Sulfate   \n",
      "91045                     Sodium Chloride;Metaproterenol   \n",
      "\n",
      "                                               Reactions Serious Sex  \\\n",
      "6                                Drug Interaction;Asthma       1   1   \n",
      "31     Dyspnoea;Anaphylactoid Reaction;Asthma;Hyperve...       1   1   \n",
      "33                         Tremor;Asthma;Cyanosis;Chills       1   1   \n",
      "35     Clonic Convulsion;Anaphylactoid Reaction;Asthm...       1   1   \n",
      "36      Asthma;Tachycardia;Hypertension;Pulmonary Oedema       1   1   \n",
      "...                                                  ...     ...  ..   \n",
      "90959           Hypertension;Tachycardia;Asthma;Dyspnoea       1   1   \n",
      "90968        Asthma;Stridor;Conversion Disorder;Dyspnoea       1   1   \n",
      "90970             Condition Aggravated;Asthma;Dermatitis       1   1   \n",
      "90974   Asthma;Back Pain;Cardiac Arrest;Pulmonary Oedema       1   1   \n",
      "91045                                    Asthma;Dyspnoea       1   1   \n",
      "\n",
      "       Patient Age  Patient Weight Reporter Type  \\\n",
      "6             23.0           115.0             0   \n",
      "31            57.0           165.0             2   \n",
      "33            30.0           140.0             1   \n",
      "35            64.0           164.0             2   \n",
      "36            61.0           130.0             1   \n",
      "...            ...             ...           ...   \n",
      "90959         64.0           130.0             2   \n",
      "90968         51.0           136.0             2   \n",
      "90970         26.0           115.0             2   \n",
      "90974         55.0           165.0             1   \n",
      "91045         60.0           128.0             2   \n",
      "\n",
      "                                  Report Source  \\\n",
      "6      Other,Health Professional ,Study,Foreign   \n",
      "31                          Health Professional   \n",
      "33                          Health Professional   \n",
      "35                          Health Professional   \n",
      "36                          Health Professional   \n",
      "...                                         ...   \n",
      "90959                       Health Professional   \n",
      "90968                       Health Professional   \n",
      "90970                       Health Professional   \n",
      "90974                       Health Professional   \n",
      "91045                       Health Professional   \n",
      "\n",
      "                    Concomitant Product Names Country where Event occurred  \\\n",
      "6                                    Atrovent                Not Specified   \n",
      "31                                          -                Not Specified   \n",
      "33                                Heparin;Azt                Not Specified   \n",
      "35             Optiray;Nubain;Tagamet;Heparin                Not Specified   \n",
      "36                             Versed;Heparin                Not Specified   \n",
      "...                                       ...                          ...   \n",
      "90959                                       -                Not Specified   \n",
      "90968                                       -                Not Specified   \n",
      "90970                                       -                Not Specified   \n",
      "90974  Pravastatin;Heparin;Coumadin;Enalapril                Not Specified   \n",
      "91045              Fluconazole;Keflex;Lomotil                Not Specified   \n",
      "\n",
      "                                     Outcomes Reported to Manufacturer?  \n",
      "6               Life Threatening;Hospitalized                         0  \n",
      "31                           Life Threatening                         0  \n",
      "33                             Other Outcomes                         0  \n",
      "35     Required Intervention;Life Threatening                         0  \n",
      "36                Other Outcomes;Hospitalized                         0  \n",
      "...                                       ...                       ...  \n",
      "90959             Other Outcomes;Hospitalized                         0  \n",
      "90968                        Life Threatening                         0  \n",
      "90970                   Required Intervention                         0  \n",
      "90974                     Other Outcomes;Died                         0  \n",
      "91045             Hospitalized;Other Outcomes                         0  \n",
      "\n",
      "[15214 rows x 14 columns]\n"
     ]
    }
   ],
   "source": [
    "cleaned_data = df[['Suspect Product Names', 'Reason for Use', 'Suspect Product Active Ingredients', 'Reactions', 'Serious', 'Sex',\n",
    "                   'Patient Age', 'Patient Weight','Reporter Type','Report Source', 'Concomitant Product Names','Country where Event occurred', 'Outcomes','Reported to Manufacturer?',]]\n",
    "print(cleaned_data)\n"
   ]
  },
  {
   "cell_type": "code",
   "execution_count": 39,
   "id": "bed980b1",
   "metadata": {},
   "outputs": [],
   "source": [
    "#cleaned_data.to_csv('cleaned_data.csv', index=False)"
   ]
  },
  {
   "cell_type": "code",
   "execution_count": 40,
   "id": "90a61c17",
   "metadata": {},
   "outputs": [
    {
     "name": "stdout",
     "output_type": "stream",
     "text": [
      "        Patient Age  Patient Weight\n",
      "count  15214.000000    15214.000000\n",
      "mean      50.194821       83.323255\n",
      "std       20.528911       33.059840\n",
      "min        0.000000        0.000000\n",
      "25%       38.000000       62.000000\n",
      "50%       54.000000       79.000000\n",
      "75%       65.000000      101.000000\n",
      "max      101.000000      169.000000\n",
      "Not Specified                                                            10056\n",
      "Health Professional                                                       2844\n",
      "Consumer                                                                  1085\n",
      "Health Professional ,Foreign                                               205\n",
      "Consumer,Health Professional                                               189\n",
      "Other,Health Professional ,Foreign                                         154\n",
      "Health Professional ,Study,Foreign                                          98\n",
      "Health Professional ,Study                                                  82\n",
      "Company Representative ,Health Professional ,Foreign                        55\n",
      "Other,Health Professional                                                   51\n",
      "Other,Health Professional ,Study,Foreign                                    47\n",
      "Other,Consumer                                                              47\n",
      "Company Representative ,Health Professional                                 38\n",
      "Other,Consumer,Health Professional                                          37\n",
      "Foreign                                                                     25\n",
      "Other                                                                       25\n",
      "Consumer,Foreign                                                            24\n",
      "Health Professional ,Literature,Foreign                                     17\n",
      "Other,Foreign                                                               14\n",
      "Other,Health Professional ,Literature,Foreign                               13\n",
      "Consumer,Health Professional ,Study,Foreign                                 12\n",
      "Consumer,Health Professional ,Foreign                                       11\n",
      "Company Representative ,Other,Health Professional ,Foreign                   9\n",
      "Health Professional ,Literature                                              8\n",
      "Other,Consumer,Foreign                                                       8\n",
      "User Facility ,Health Professional                                           6\n",
      "Other,Consumer,Health Professional ,Study                                    5\n",
      "Health Professional ,Distributor                                             4\n",
      "Other,Study,Foreign                                                          4\n",
      "Other,Health Professional ,Study                                             4\n",
      "Consumer,Health Professional ,Study                                          3\n",
      "Consumer,Study                                                               3\n",
      "Other,Consumer,Health Professional ,Foreign                                  3\n",
      "Company Representative ,Consumer                                             2\n",
      "Company Representative ,Other,Consumer,Health Professional                   2\n",
      "Other,Health Professional ,Distributor,Foreign                               2\n",
      "Company Representative ,Other,Health Professional                            2\n",
      "Company Representative                                                       2\n",
      "Company Representative ,Consumer,Health Professional                         1\n",
      "Literature,Foreign                                                           1\n",
      "Distributor                                                                  1\n",
      "Other,Consumer,Health Professional ,Study,Foreign                            1\n",
      "Study,Foreign                                                                1\n",
      "Consumer,Distributor                                                         1\n",
      "Company Representative ,Health Professional ,Distributor,Foreign             1\n",
      "User Facility ,Health Professional ,Literature                               1\n",
      "User Facility ,Health Professional ,Distributor                              1\n",
      "Other,Consumer,Study                                                         1\n",
      "Distributor,Foreign                                                          1\n",
      "Company Representative ,Other,Health Professional ,Literature,Foreign        1\n",
      "Distributor,Study,Foreign                                                    1\n",
      "Company Representative ,Consumer,Health Professional ,Foreign                1\n",
      "User Facility ,Other,Health Professional ,Foreign                            1\n",
      "Health Professional ,Distributor,Foreign                                     1\n",
      "Company Representative ,Health Professional ,Literature,Foreign              1\n",
      "Consumer,Health Professional ,Distributor                                    1\n",
      "Name: Report Source, dtype: int64\n",
      "2    7634\n",
      "1    6744\n",
      "0     836\n",
      "Name: Reporter Type, dtype: int64\n",
      "-                                                                                                     4721\n",
      "Albuterol                                                                                              150\n",
      "Unspecified Ingredient                                                                                  81\n",
      "Prednisone                                                                                              74\n",
      "Nucala                                                                                                  74\n",
      "                                                                                                      ... \n",
      "Metoprolol;Novodigal (.Beta.-Acetyldigoxin);Enalapril;Metformin                                          1\n",
      "Gabapentin;Diclofenac Potassium;Versed;Vitamins;Clonazepam;Adderall;Sublimaze;Sertraline;Celestone       1\n",
      "Donnatal;Darvocet-N 100;Bentyl;Proventil;Valium;Xanax;Unspecified Ingredient                             1\n",
      "Premarin;Dyazide                                                                                         1\n",
      "Fluconazole;Keflex;Lomotil                                                                               1\n",
      "Name: Concomitant Product Names, Length: 9099, dtype: int64\n",
      "Omalizumab                                                                                892\n",
      "Adalimumab                                                                                409\n",
      "Rofecoxib                                                                                 389\n",
      "Albuterol Sulfate                                                                         287\n",
      "Fluticasone Propionate\\Salmeterol Xinafoate                                               256\n",
      "                                                                                         ... \n",
      "Glecaprevir\\Pibrentasvir                                                                    1\n",
      "Fluticasone Propionate\\Salmeterol Xinafoate;Metformin Hydrochloride;Pirbuterol Acetate      1\n",
      "Methylprednisolone;Teriflunomide;Hydrochlorothiazide                                        1\n",
      "Methylprednisolone;Tocilizumab                                                              1\n",
      "Gentamicin                                                                                  1\n",
      "Name: Suspect Product Active Ingredients, Length: 4863, dtype: int64\n",
      "US               5827\n",
      "Not Specified    3842\n",
      "CA               2194\n",
      "GB                748\n",
      "JP                556\n",
      "                 ... \n",
      "HR                  1\n",
      "SA                  1\n",
      "MA                  1\n",
      "PF                  1\n",
      "SI                  1\n",
      "Name: Country where Event occurred, Length: 76, dtype: int64\n",
      "1    13088\n",
      "0     2126\n",
      "Name: Serious, dtype: int64\n",
      "0    15062\n",
      "1      152\n",
      "Name: Reported to Manufacturer?, dtype: int64\n",
      "-                                 2792\n",
      "Xolair                             891\n",
      "Humira                             444\n",
      "Vioxx                              390\n",
      "Symbicort                          339\n",
      "                                  ... \n",
      "Hyzaar;Enbrel                        1\n",
      "Hyzaar;Norvasc                       1\n",
      "Hyzaar;Vioxx;Altace;Wellbutrin       1\n",
      "Ibu;Amlodipine;Nucala;Bactrim        1\n",
      "Nexium;Prilosec;Prevacid             1\n",
      "Name: Suspect Product Names, Length: 3448, dtype: int64\n",
      "Asthma                                                                                                                                                                                       1213\n",
      "Dyspnoea;Asthma                                                                                                                                                                                74\n",
      "Asthma;Dyspnoea                                                                                                                                                                                63\n",
      "Condition Aggravated;Asthma                                                                                                                                                                    62\n",
      "Drug Ineffective;Asthma                                                                                                                                                                        44\n",
      "                                                                                                                                                                                             ... \n",
      "Lung Disorder;Fluid Retention;Chronic Obstructive Pulmonary Disease;Asthma                                                                                                                      1\n",
      "Asthma;Lymphoedema                                                                                                                                                                              1\n",
      "Condition Aggravated;Hypertension;Dyspnoea;Asthma                                                                                                                                               1\n",
      "Condition Aggravated;Asthma-Chronic Obstructive Pulmonary Disease Overlap Syndrome;Systemic Lupus Erythematosus;Asthma;Blood Creatine Phosphokinase Increased;Product Dose Omission Issue       1\n",
      "Asthma;Back Pain;Cardiac Arrest;Pulmonary Oedema                                                                                                                                                1\n",
      "Name: Reactions, Length: 12633, dtype: int64\n",
      "Other Outcomes                                                                                         4938\n",
      "Hospitalized                                                                                           2884\n",
      "Non-Serious                                                                                            2126\n",
      "Hospitalized;Other Outcomes                                                                            1168\n",
      "Other Outcomes;Hospitalized                                                                            1104\n",
      "                                                                                                       ... \n",
      "Died;Hospitalized;Disabled;Other Outcomes;Congenital Anomaly;Life Threatening;Required Intervention       1\n",
      "Life Threatening;Other Outcomes;Disabled;Died                                                             1\n",
      "Life Threatening;Required Intervention;Hospitalized;Disabled                                              1\n",
      "Died;Disabled;Hospitalized                                                                                1\n",
      "Life Threatening;Required Intervention;Other Outcomes                                                     1\n",
      "Name: Outcomes, Length: 266, dtype: int64\n",
      "1    13088\n",
      "0     2126\n",
      "Name: Sex, dtype: int64\n",
      "Asthma                                          1884\n",
      "-                                               1487\n",
      "Asthma;Product Used For Unknown Indication      1056\n",
      "Product Used For Unknown Indication              552\n",
      "Rheumatoid Arthritis                             363\n",
      "                                                ... \n",
      "Arthralgia;Fibromyalgia;Hypertension               1\n",
      "Myalgia;Pain Of Skin                               1\n",
      "Burning Sensation;Fibromyalgia                     1\n",
      "Arthralgia;Osteoarthritis;Postoperative Care       1\n",
      "Acarodermatitis                                    1\n",
      "Name: Reason for Use, Length: 4881, dtype: int64\n"
     ]
    }
   ],
   "source": [
    "\n",
    "# select the columns of interest\n",
    "cols_of_interest = ['Suspect Product Names', 'Reason for Use', 'Suspect Product Active Ingredients',\n",
    "                    'Reactions', 'Serious', 'Sex', 'Patient Age', 'Patient Weight',\n",
    "                    'Reporter Type', 'Report Source', 'Concomitant Product Names',\n",
    "                    'Country where Event occurred', 'Outcomes', 'Reported to Manufacturer?']\n",
    "\n",
    "# get basic descriptive statistics for the numeric columns\n",
    "numeric_cols = ['Patient Age', 'Patient Weight']\n",
    "print(cleaned_data[numeric_cols].describe())\n",
    "\n",
    "\n",
    "# get basic descriptive statistics for the categorical columns\n",
    "categorical_cols = list(set(cols_of_interest) - set(numeric_cols))\n",
    "for col in categorical_cols:\n",
    "    print(cleaned_data[col].value_counts())\n"
   ]
  },
  {
   "cell_type": "code",
   "execution_count": null,
   "id": "6148ee47",
   "metadata": {},
   "outputs": [],
   "source": []
  },
  {
   "cell_type": "code",
   "execution_count": 41,
   "id": "2865e531",
   "metadata": {},
   "outputs": [
    {
     "name": "stdout",
     "output_type": "stream",
     "text": [
      "      Suspect Product Names  \\\n",
      "6                    Aarane   \n",
      "31               Abbokinase   \n",
      "33               Abbokinase   \n",
      "35               Abbokinase   \n",
      "36               Abbokinase   \n",
      "...                     ...   \n",
      "90959                     -   \n",
      "90968                     -   \n",
      "90970                     -   \n",
      "90974                     -   \n",
      "91045                     -   \n",
      "\n",
      "                                          Reason for Use  \\\n",
      "6      Asthma;Exposure To Allergen;Prophylaxis;Rhinit...   \n",
      "31                                                     -   \n",
      "33                                                     -   \n",
      "35                                                     -   \n",
      "36                                                     -   \n",
      "...                                                  ...   \n",
      "90959                                                  -   \n",
      "90968                                                  -   \n",
      "90970                                                  -   \n",
      "90974                                                  -   \n",
      "91045                                                  -   \n",
      "\n",
      "                      Suspect Product Active Ingredients  \\\n",
      "6      Cromolyn Sodium;Unspecified Ingredient;Allerge...   \n",
      "31                                             Urokinase   \n",
      "33                                             Urokinase   \n",
      "35                                             Urokinase   \n",
      "36                                             Urokinase   \n",
      "...                                                  ...   \n",
      "90959                                 Diatrizoate Sodium   \n",
      "90968                                           Morphine   \n",
      "90970                                         Gentamicin   \n",
      "90974                                  Protamine Sulfate   \n",
      "91045                     Sodium Chloride;Metaproterenol   \n",
      "\n",
      "                                               Reactions Serious Sex  \\\n",
      "6                                Drug Interaction;Asthma       1   1   \n",
      "31     Dyspnoea;Anaphylactoid Reaction;Asthma;Hyperve...       1   1   \n",
      "33                         Tremor;Asthma;Cyanosis;Chills       1   1   \n",
      "35     Clonic Convulsion;Anaphylactoid Reaction;Asthm...       1   1   \n",
      "36      Asthma;Tachycardia;Hypertension;Pulmonary Oedema       1   1   \n",
      "...                                                  ...     ...  ..   \n",
      "90959           Hypertension;Tachycardia;Asthma;Dyspnoea       1   1   \n",
      "90968        Asthma;Stridor;Conversion Disorder;Dyspnoea       1   1   \n",
      "90970             Condition Aggravated;Asthma;Dermatitis       1   1   \n",
      "90974   Asthma;Back Pain;Cardiac Arrest;Pulmonary Oedema       1   1   \n",
      "91045                                    Asthma;Dyspnoea       1   1   \n",
      "\n",
      "       Patient Age  Patient Weight Reporter Type  \\\n",
      "6             23.0           115.0             0   \n",
      "31            57.0           165.0             2   \n",
      "33            30.0           140.0             1   \n",
      "35            64.0           164.0             2   \n",
      "36            61.0           130.0             1   \n",
      "...            ...             ...           ...   \n",
      "90959         64.0           130.0             2   \n",
      "90968         51.0           136.0             2   \n",
      "90970         26.0           115.0             2   \n",
      "90974         55.0           165.0             1   \n",
      "91045         60.0           128.0             2   \n",
      "\n",
      "                                  Report Source  \\\n",
      "6      Other,Health Professional ,Study,Foreign   \n",
      "31                          Health Professional   \n",
      "33                          Health Professional   \n",
      "35                          Health Professional   \n",
      "36                          Health Professional   \n",
      "...                                         ...   \n",
      "90959                       Health Professional   \n",
      "90968                       Health Professional   \n",
      "90970                       Health Professional   \n",
      "90974                       Health Professional   \n",
      "91045                       Health Professional   \n",
      "\n",
      "                    Concomitant Product Names Country where Event occurred  \\\n",
      "6                                    Atrovent                Not Specified   \n",
      "31                                          -                Not Specified   \n",
      "33                                Heparin;Azt                Not Specified   \n",
      "35             Optiray;Nubain;Tagamet;Heparin                Not Specified   \n",
      "36                             Versed;Heparin                Not Specified   \n",
      "...                                       ...                          ...   \n",
      "90959                                       -                Not Specified   \n",
      "90968                                       -                Not Specified   \n",
      "90970                                       -                Not Specified   \n",
      "90974  Pravastatin;Heparin;Coumadin;Enalapril                Not Specified   \n",
      "91045              Fluconazole;Keflex;Lomotil                Not Specified   \n",
      "\n",
      "                                     Outcomes Reported to Manufacturer?  \n",
      "6               Life Threatening;Hospitalized                         0  \n",
      "31                           Life Threatening                         0  \n",
      "33                             Other Outcomes                         0  \n",
      "35     Required Intervention;Life Threatening                         0  \n",
      "36                Other Outcomes;Hospitalized                         0  \n",
      "...                                       ...                       ...  \n",
      "90959             Other Outcomes;Hospitalized                         0  \n",
      "90968                        Life Threatening                         0  \n",
      "90970                   Required Intervention                         0  \n",
      "90974                     Other Outcomes;Died                         0  \n",
      "91045             Hospitalized;Other Outcomes                         0  \n",
      "\n",
      "[15214 rows x 14 columns]\n"
     ]
    }
   ],
   "source": [
    "print(cleaned_data)"
   ]
  },
  {
   "cell_type": "code",
   "execution_count": 42,
   "id": "23b850e4",
   "metadata": {},
   "outputs": [
    {
     "data": {
      "text/html": [
       "<div>\n",
       "<style scoped>\n",
       "    .dataframe tbody tr th:only-of-type {\n",
       "        vertical-align: middle;\n",
       "    }\n",
       "\n",
       "    .dataframe tbody tr th {\n",
       "        vertical-align: top;\n",
       "    }\n",
       "\n",
       "    .dataframe thead th {\n",
       "        text-align: right;\n",
       "    }\n",
       "</style>\n",
       "<table border=\"1\" class=\"dataframe\">\n",
       "  <thead>\n",
       "    <tr style=\"text-align: right;\">\n",
       "      <th></th>\n",
       "      <th>Patient Age</th>\n",
       "      <th>Patient Weight</th>\n",
       "    </tr>\n",
       "  </thead>\n",
       "  <tbody>\n",
       "    <tr>\n",
       "      <th>count</th>\n",
       "      <td>15214.000000</td>\n",
       "      <td>15214.000000</td>\n",
       "    </tr>\n",
       "    <tr>\n",
       "      <th>mean</th>\n",
       "      <td>50.194821</td>\n",
       "      <td>83.323255</td>\n",
       "    </tr>\n",
       "    <tr>\n",
       "      <th>std</th>\n",
       "      <td>20.528911</td>\n",
       "      <td>33.059840</td>\n",
       "    </tr>\n",
       "    <tr>\n",
       "      <th>min</th>\n",
       "      <td>0.000000</td>\n",
       "      <td>0.000000</td>\n",
       "    </tr>\n",
       "    <tr>\n",
       "      <th>25%</th>\n",
       "      <td>38.000000</td>\n",
       "      <td>62.000000</td>\n",
       "    </tr>\n",
       "    <tr>\n",
       "      <th>50%</th>\n",
       "      <td>54.000000</td>\n",
       "      <td>79.000000</td>\n",
       "    </tr>\n",
       "    <tr>\n",
       "      <th>75%</th>\n",
       "      <td>65.000000</td>\n",
       "      <td>101.000000</td>\n",
       "    </tr>\n",
       "    <tr>\n",
       "      <th>max</th>\n",
       "      <td>101.000000</td>\n",
       "      <td>169.000000</td>\n",
       "    </tr>\n",
       "  </tbody>\n",
       "</table>\n",
       "</div>"
      ],
      "text/plain": [
       "        Patient Age  Patient Weight\n",
       "count  15214.000000    15214.000000\n",
       "mean      50.194821       83.323255\n",
       "std       20.528911       33.059840\n",
       "min        0.000000        0.000000\n",
       "25%       38.000000       62.000000\n",
       "50%       54.000000       79.000000\n",
       "75%       65.000000      101.000000\n",
       "max      101.000000      169.000000"
      ]
     },
     "execution_count": 42,
     "metadata": {},
     "output_type": "execute_result"
    }
   ],
   "source": [
    "cleaned_data.describe()\n"
   ]
  },
  {
   "cell_type": "code",
   "execution_count": null,
   "id": "a85999bc",
   "metadata": {},
   "outputs": [],
   "source": []
  },
  {
   "cell_type": "code",
   "execution_count": null,
   "id": "7ff33254",
   "metadata": {},
   "outputs": [],
   "source": []
  }
 ],
 "metadata": {
  "kernelspec": {
   "display_name": "Python 3 (ipykernel)",
   "language": "python",
   "name": "python3"
  },
  "language_info": {
   "codemirror_mode": {
    "name": "ipython",
    "version": 3
   },
   "file_extension": ".py",
   "mimetype": "text/x-python",
   "name": "python",
   "nbconvert_exporter": "python",
   "pygments_lexer": "ipython3",
   "version": "3.9.12"
  }
 },
 "nbformat": 4,
 "nbformat_minor": 5
}
